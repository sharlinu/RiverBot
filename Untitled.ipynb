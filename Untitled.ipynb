{
 "cells": [
  {
   "cell_type": "code",
   "execution_count": 3,
   "id": "681bf086",
   "metadata": {
    "pycharm": {
     "is_executing": true
    }
   },
   "outputs": [],
   "source": [
    "import pandas as pd \n",
    "import regex as re\n",
    "from ingredient_parser import parse_ingredient\n",
    "import random\n",
    "from collections import Counter , defaultdict"
   ]
  },
  {
   "cell_type": "code",
   "execution_count": 4,
   "id": "62cea6d4",
   "metadata": {
    "pycharm": {
     "is_executing": true
    }
   },
   "outputs": [],
   "source": [
    "# pd.set_option('display.max_rows', None)\n",
    "# pd.set_option('display.max_columns', None)\n",
    "# pd.set_option('display.width', None)\n",
    "pd.set_option('display.max_colwidth', 50)\n",
    " \n",
    "# All dataframes hereafter reflect these changes.\n",
    "# display(df)\n",
    "# print('**RESET_OPTIONS**')\n",
    "# Resets the options\n",
    "# pd.reset_option('all')\n",
    "# display(df)"
   ]
  },
  {
   "cell_type": "code",
   "execution_count": 5,
   "id": "923258f5",
   "metadata": {},
   "outputs": [],
   "source": [
    "def clean(row):\n",
    "    row = re.sub(r\"(\\w)\\n(\\w)\",r'\\1 \\2', row)\n",
    "    row = re.sub(r\"\\s(\\.|\\,)\",r'\\1',  row)\n",
    "    return row\n",
    "\n",
    "def clean_ingr(row):\n",
    "    row = re.sub(r\"\\n\\s?\",', ', row)\n",
    "#     row = row.split(',')\n",
    "    return row\n",
    "\n",
    "def strip_ingr(row):\n",
    "    row = re.sub('½|¹ / 2', '', row)\n",
    "    row = re.sub(r'(\\n)?\\d/?\\d*(?:ml|kg|g|l|\\s)(?:tin|tbsp|tsp|packs|pack|bag|bags)?',r'\\1', row)\n",
    "    row = re.sub(\"\\(.*\\)\",'', row)\n",
    "    row = re.sub(\"\\(.*\\)\",'', row)\n",
    "    return row\n",
    "\n",
    "# add to taste -\\nadd to taste\n",
    "# -? optional \n",
    "# - you \n",
    "# 1. \n",
    "# 2 x 1\n",
    "# Ingr \n",
    "# 2-1 / 4\n",
    "\n",
    "#وت تے"
   ]
  },
  {
   "cell_type": "code",
   "execution_count": 14,
   "id": "056b1f5b",
   "metadata": {},
   "outputs": [],
   "source": [
    "df = pd.read_csv('recipes.csv')\n",
    "df.instructions = df.instructions.apply(clean)\n",
    "df.ingredients = df.ingredients.apply(lambda x: re.sub(r'.*Ingredients\\s?\\n','',x))\n",
    "df.ingredients = df.ingredients.apply(clean_ingr)\n",
    "df['clean_ingr'] = df.ingredients.apply(strip_ingr)\n",
    "df = df[~df.title.duplicated()]\n",
    "# df['clean'] = df.ingredients.apply(lambda x: parse_ingredient(x).name.text.split(', '))"
   ]
  },
  {
   "cell_type": "code",
   "execution_count": 15,
   "id": "e647afdc",
   "metadata": {},
   "outputs": [],
   "source": [
    "def parser(row): \n",
    "    obj = parse_ingredient(row)\n",
    "    ingredients = obj.name.text.split(', ')\n",
    "    whole = []\n",
    "    units = []\n",
    "    quantities = []\n",
    "    ingrs = []\n",
    "    for ing, a in zip(ingredients, obj.amount):\n",
    "        temp = a.quantity + a.unit + \" \" + ing\n",
    "#         whole.append(temp)\n",
    "        units.append(a.unit)\n",
    "        quantities.append(a.quantity)\n",
    "        ingrs.append(ing)\n",
    "    return units, quantities, ingrs, obj.comment.text\n",
    "#     print(whole)\n",
    "#     print(f'Additionally, these are some extras that might be essential and might be non-sense : {obj.comment.text}')\n",
    "\n",
    "df['clean_ingredients'], df['units'],df['quantities'], df['addon'] = zip(*df.ingredients.apply(lambda x: parser(x)))"
   ]
  },
  {
   "cell_type": "code",
   "execution_count": 16,
   "id": "2ca47959",
   "metadata": {},
   "outputs": [
    {
     "data": {
      "text/html": [
       "<div>\n",
       "<style scoped>\n",
       "    .dataframe tbody tr th:only-of-type {\n",
       "        vertical-align: middle;\n",
       "    }\n",
       "\n",
       "    .dataframe tbody tr th {\n",
       "        vertical-align: top;\n",
       "    }\n",
       "\n",
       "    .dataframe thead th {\n",
       "        text-align: right;\n",
       "    }\n",
       "</style>\n",
       "<table border=\"1\" class=\"dataframe\">\n",
       "  <thead>\n",
       "    <tr style=\"text-align: right;\">\n",
       "      <th></th>\n",
       "      <th>original_filename</th>\n",
       "      <th>title</th>\n",
       "      <th>instructions</th>\n",
       "      <th>ingredients</th>\n",
       "      <th>clean_ingr</th>\n",
       "      <th>clean_ingredients</th>\n",
       "      <th>units</th>\n",
       "      <th>quantities</th>\n",
       "      <th>addon</th>\n",
       "    </tr>\n",
       "  </thead>\n",
       "  <tbody>\n",
       "    <tr>\n",
       "      <th>0</th>\n",
       "      <td>IMG_1271.JPG</td>\n",
       "      <td>Greek Mushroom Ragù &amp; Olive Oil Mash</td>\n",
       "      <td>1. Peel, halve and finely slice the onion. Pee...</td>\n",
       "      <td>1 red onion, 2 garlic cloves, 200g portobello ...</td>\n",
       "      <td>red onion, garlic cloves,  portobello mushroom...</td>\n",
       "      <td>[, g, g, g, ml, ml, g, g, ]</td>\n",
       "      <td>[1, 200, 60, 500, 100, 200, 15, 200, 1]</td>\n",
       "      <td>[red onion, portobello mushrooms, green olives...</td>\n",
       "      <td>2 garlic cloves, 1 tin dark green lentils, 1 G...</td>\n",
       "    </tr>\n",
       "    <tr>\n",
       "      <th>1</th>\n",
       "      <td>IMG_1270.JPG</td>\n",
       "      <td>Mushroom Risotto Stuffed Squash</td>\n",
       "      <td>1. Boil a kettle. Heat your oven to 190 ° C / ...</td>\n",
       "      <td>1 leek, 10g rosemary, 5g dried mushrooms, 1 sp...</td>\n",
       "      <td>leek,  rosemary,  dried mushrooms, spaghetti s...</td>\n",
       "      <td>[, g, tbsp, g, g, head, g, tsps, tbsp]</td>\n",
       "      <td>[1, 10, 1, 200, 150, 1, 10, 0.25, 1]</td>\n",
       "      <td>[leek, rosemary, mushrooms, bouillon powder, b...</td>\n",
       "      <td>5 g dried, 1 spaghetti squash, 2 x 0.5 tbsp, 2...</td>\n",
       "    </tr>\n",
       "    <tr>\n",
       "      <th>2</th>\n",
       "      <td>IMG_1268.JPG</td>\n",
       "      <td>Nasi Goreng with Peanuts &amp; Sriracha</td>\n",
       "      <td>1. Boil a kettle.\\n2. Using about a third of t...</td>\n",
       "      <td>1/3 cucumber, 1 tbsp rice vinegar, 1 tbsp ligh...</td>\n",
       "      <td>cucumber,  rice vinegar,  light brown sugar,  ...</td>\n",
       "      <td>[, tbsp, tbsp, g, bunch, bag, g, tsps, tsps, ,...</td>\n",
       "      <td>[0.333, 1, 1, 150, 1, 1, 30, 2, 0.25, 2, 2]</td>\n",
       "      <td>[cucumber, rice vinegar, light brown sugar, br...</td>\n",
       "      <td>1 pointed cabbage, 1 large or 2 smaller carrot...</td>\n",
       "    </tr>\n",
       "    <tr>\n",
       "      <th>3</th>\n",
       "      <td>IMG_1269.JPG</td>\n",
       "      <td>Teriyaki Mushroom Rice &amp; Asian Slaw</td>\n",
       "      <td>1. Boil a kettle. Rinse the rice in a sieve. T...</td>\n",
       "      <td>150g brown basmati rice, 1 red onion, 1 carrot...</td>\n",
       "      <td>brown basmati rice, red onion, carrot, red ca...</td>\n",
       "      <td>[g, pack, tsps, g, g, g, ml, tbsp, tbsps, tbsp]</td>\n",
       "      <td>[150, 1, 0.25, 400, 15, 25, 50, 1, 2, 1]</td>\n",
       "      <td>[brown basmati rice, sweet chilli sauce, chill...</td>\n",
       "      <td>1 red onion, 1 carrot, 1 red cabbage</td>\n",
       "    </tr>\n",
       "    <tr>\n",
       "      <th>4</th>\n",
       "      <td>IMG_1266.JPG</td>\n",
       "      <td>Greek Pasticcio &amp; Roasted Vegetables</td>\n",
       "      <td>1. Put a large saucepan of well - salted water...</td>\n",
       "      <td>2 red onions, 10g rosemary, 150g mushrooms, 1 ...</td>\n",
       "      <td>red onions,  rosemary,  mushrooms, garlic clov...</td>\n",
       "      <td>[, g, g, g, g, tsp, g, pack, tsps, g, , g, g, ]</td>\n",
       "      <td>[2, 10, 150, 50, 10, 1, 200, 1, 0.25, 175, 1, ...</td>\n",
       "      <td>[red onions, rosemary, mushrooms, walnuts, haz...</td>\n",
       "      <td>1 garlic clove, 25 g chopped toasted, 1 red pe...</td>\n",
       "    </tr>\n",
       "  </tbody>\n",
       "</table>\n",
       "</div>"
      ],
      "text/plain": [
       "  original_filename                                 title  \\\n",
       "0      IMG_1271.JPG  Greek Mushroom Ragù & Olive Oil Mash   \n",
       "1      IMG_1270.JPG       Mushroom Risotto Stuffed Squash   \n",
       "2      IMG_1268.JPG   Nasi Goreng with Peanuts & Sriracha   \n",
       "3      IMG_1269.JPG   Teriyaki Mushroom Rice & Asian Slaw   \n",
       "4      IMG_1266.JPG  Greek Pasticcio & Roasted Vegetables   \n",
       "\n",
       "                                        instructions  \\\n",
       "0  1. Peel, halve and finely slice the onion. Pee...   \n",
       "1  1. Boil a kettle. Heat your oven to 190 ° C / ...   \n",
       "2  1. Boil a kettle.\\n2. Using about a third of t...   \n",
       "3  1. Boil a kettle. Rinse the rice in a sieve. T...   \n",
       "4  1. Put a large saucepan of well - salted water...   \n",
       "\n",
       "                                         ingredients  \\\n",
       "0  1 red onion, 2 garlic cloves, 200g portobello ...   \n",
       "1  1 leek, 10g rosemary, 5g dried mushrooms, 1 sp...   \n",
       "2  1/3 cucumber, 1 tbsp rice vinegar, 1 tbsp ligh...   \n",
       "3  150g brown basmati rice, 1 red onion, 1 carrot...   \n",
       "4  2 red onions, 10g rosemary, 150g mushrooms, 1 ...   \n",
       "\n",
       "                                          clean_ingr  \\\n",
       "0  red onion, garlic cloves,  portobello mushroom...   \n",
       "1  leek,  rosemary,  dried mushrooms, spaghetti s...   \n",
       "2  cucumber,  rice vinegar,  light brown sugar,  ...   \n",
       "3   brown basmati rice, red onion, carrot, red ca...   \n",
       "4  red onions,  rosemary,  mushrooms, garlic clov...   \n",
       "\n",
       "                                   clean_ingredients  \\\n",
       "0                        [, g, g, g, ml, ml, g, g, ]   \n",
       "1             [, g, tbsp, g, g, head, g, tsps, tbsp]   \n",
       "2  [, tbsp, tbsp, g, bunch, bag, g, tsps, tsps, ,...   \n",
       "3    [g, pack, tsps, g, g, g, ml, tbsp, tbsps, tbsp]   \n",
       "4    [, g, g, g, g, tsp, g, pack, tsps, g, , g, g, ]   \n",
       "\n",
       "                                               units  \\\n",
       "0            [1, 200, 60, 500, 100, 200, 15, 200, 1]   \n",
       "1               [1, 10, 1, 200, 150, 1, 10, 0.25, 1]   \n",
       "2        [0.333, 1, 1, 150, 1, 1, 30, 2, 0.25, 2, 2]   \n",
       "3           [150, 1, 0.25, 400, 15, 25, 50, 1, 2, 1]   \n",
       "4  [2, 10, 150, 50, 10, 1, 200, 1, 0.25, 175, 1, ...   \n",
       "\n",
       "                                          quantities  \\\n",
       "0  [red onion, portobello mushrooms, green olives...   \n",
       "1  [leek, rosemary, mushrooms, bouillon powder, b...   \n",
       "2  [cucumber, rice vinegar, light brown sugar, br...   \n",
       "3  [brown basmati rice, sweet chilli sauce, chill...   \n",
       "4  [red onions, rosemary, mushrooms, walnuts, haz...   \n",
       "\n",
       "                                               addon  \n",
       "0  2 garlic cloves, 1 tin dark green lentils, 1 G...  \n",
       "1  5 g dried, 1 spaghetti squash, 2 x 0.5 tbsp, 2...  \n",
       "2  1 pointed cabbage, 1 large or 2 smaller carrot...  \n",
       "3               1 red onion, 1 carrot, 1 red cabbage  \n",
       "4  1 garlic clove, 25 g chopped toasted, 1 red pe...  "
      ]
     },
     "execution_count": 16,
     "metadata": {},
     "output_type": "execute_result"
    }
   ],
   "source": [
    "df.head()"
   ]
  },
  {
   "cell_type": "code",
   "execution_count": 17,
   "id": "620222c9",
   "metadata": {},
   "outputs": [],
   "source": [
    "df.to_csv('cleaned2.csv')"
   ]
  },
  {
   "cell_type": "markdown",
   "id": "e438662b",
   "metadata": {},
   "source": [
    "## Top Ingredients "
   ]
  },
  {
   "cell_type": "code",
   "execution_count": 8,
   "id": "dfe9ae3f",
   "metadata": {},
   "outputs": [],
   "source": [
    "dfi= df.explode('clean_ingredients')"
   ]
  },
  {
   "cell_type": "code",
   "execution_count": 9,
   "id": "44da749d",
   "metadata": {
    "collapsed": true
   },
   "outputs": [
    {
     "ename": "TypeError",
     "evalue": "unhashable type: 'list'",
     "output_type": "error",
     "traceback": [
      "\u001B[0;31m---------------------------------------------------------------------------\u001B[0m",
      "\u001B[0;31mTypeError\u001B[0m                                 Traceback (most recent call last)",
      "Cell \u001B[0;32mIn[9], line 1\u001B[0m\n\u001B[0;32m----> 1\u001B[0m \u001B[43mdfi\u001B[49m\u001B[43m[\u001B[49m\u001B[43m[\u001B[49m\u001B[38;5;124;43m'\u001B[39;49m\u001B[38;5;124;43mtitle\u001B[39;49m\u001B[38;5;124;43m'\u001B[39;49m\u001B[43m,\u001B[49m\u001B[43m \u001B[49m\u001B[38;5;124;43m'\u001B[39;49m\u001B[38;5;124;43mclean\u001B[39;49m\u001B[38;5;124;43m'\u001B[39;49m\u001B[43m]\u001B[49m\u001B[43m]\u001B[49m\u001B[38;5;241;43m.\u001B[39;49m\u001B[43mgroupby\u001B[49m\u001B[43m(\u001B[49m\u001B[38;5;124;43m'\u001B[39;49m\u001B[38;5;124;43mclean\u001B[39;49m\u001B[38;5;124;43m'\u001B[39;49m\u001B[43m)\u001B[49m\u001B[38;5;241;43m.\u001B[39;49m\u001B[43mcount\u001B[49m\u001B[43m(\u001B[49m\u001B[43m)\u001B[49m\u001B[38;5;241m.\u001B[39msort_values(\u001B[38;5;124m'\u001B[39m\u001B[38;5;124mtitle\u001B[39m\u001B[38;5;124m'\u001B[39m, ascending\u001B[38;5;241m=\u001B[39m\u001B[38;5;28;01mFalse\u001B[39;00m)\u001B[38;5;241m.\u001B[39mhead(\u001B[38;5;241m10\u001B[39m)\n",
      "File \u001B[0;32m~/opt/miniconda3/envs/Recipes/lib/python3.10/site-packages/pandas/core/groupby/groupby.py:2248\u001B[0m, in \u001B[0;36mGroupBy.count\u001B[0;34m(self)\u001B[0m\n\u001B[1;32m   2192\u001B[0m \u001B[38;5;250m\u001B[39m\u001B[38;5;124;03m\"\"\"\u001B[39;00m\n\u001B[1;32m   2193\u001B[0m \u001B[38;5;124;03mCompute count of group, excluding missing values.\u001B[39;00m\n\u001B[1;32m   2194\u001B[0m \n\u001B[0;32m   (...)\u001B[0m\n\u001B[1;32m   2245\u001B[0m \u001B[38;5;124;03mFreq: MS, dtype: int64\u001B[39;00m\n\u001B[1;32m   2246\u001B[0m \u001B[38;5;124;03m\"\"\"\u001B[39;00m\n\u001B[1;32m   2247\u001B[0m data \u001B[38;5;241m=\u001B[39m \u001B[38;5;28mself\u001B[39m\u001B[38;5;241m.\u001B[39m_get_data_to_aggregate()\n\u001B[0;32m-> 2248\u001B[0m ids, _, ngroups \u001B[38;5;241m=\u001B[39m \u001B[38;5;28;43mself\u001B[39;49m\u001B[38;5;241;43m.\u001B[39;49m\u001B[43mgrouper\u001B[49m\u001B[38;5;241;43m.\u001B[39;49m\u001B[43mgroup_info\u001B[49m\n\u001B[1;32m   2249\u001B[0m mask \u001B[38;5;241m=\u001B[39m ids \u001B[38;5;241m!=\u001B[39m \u001B[38;5;241m-\u001B[39m\u001B[38;5;241m1\u001B[39m\n\u001B[1;32m   2251\u001B[0m is_series \u001B[38;5;241m=\u001B[39m data\u001B[38;5;241m.\u001B[39mndim \u001B[38;5;241m==\u001B[39m \u001B[38;5;241m1\u001B[39m\n",
      "File \u001B[0;32mproperties.pyx:36\u001B[0m, in \u001B[0;36mpandas._libs.properties.CachedProperty.__get__\u001B[0;34m()\u001B[0m\n",
      "File \u001B[0;32m~/opt/miniconda3/envs/Recipes/lib/python3.10/site-packages/pandas/core/groupby/ops.py:729\u001B[0m, in \u001B[0;36mBaseGrouper.group_info\u001B[0;34m(self)\u001B[0m\n\u001B[1;32m    727\u001B[0m \u001B[38;5;129m@cache_readonly\u001B[39m\n\u001B[1;32m    728\u001B[0m \u001B[38;5;28;01mdef\u001B[39;00m \u001B[38;5;21mgroup_info\u001B[39m(\u001B[38;5;28mself\u001B[39m) \u001B[38;5;241m-\u001B[39m\u001B[38;5;241m>\u001B[39m \u001B[38;5;28mtuple\u001B[39m[npt\u001B[38;5;241m.\u001B[39mNDArray[np\u001B[38;5;241m.\u001B[39mintp], npt\u001B[38;5;241m.\u001B[39mNDArray[np\u001B[38;5;241m.\u001B[39mintp], \u001B[38;5;28mint\u001B[39m]:\n\u001B[0;32m--> 729\u001B[0m     comp_ids, obs_group_ids \u001B[38;5;241m=\u001B[39m \u001B[38;5;28;43mself\u001B[39;49m\u001B[38;5;241;43m.\u001B[39;49m\u001B[43m_get_compressed_codes\u001B[49m\u001B[43m(\u001B[49m\u001B[43m)\u001B[49m\n\u001B[1;32m    731\u001B[0m     ngroups \u001B[38;5;241m=\u001B[39m \u001B[38;5;28mlen\u001B[39m(obs_group_ids)\n\u001B[1;32m    732\u001B[0m     comp_ids \u001B[38;5;241m=\u001B[39m ensure_platform_int(comp_ids)\n",
      "File \u001B[0;32m~/opt/miniconda3/envs/Recipes/lib/python3.10/site-packages/pandas/core/groupby/ops.py:753\u001B[0m, in \u001B[0;36mBaseGrouper._get_compressed_codes\u001B[0;34m(self)\u001B[0m\n\u001B[1;32m    750\u001B[0m     \u001B[38;5;66;03m# FIXME: compress_group_index's second return value is int64, not intp\u001B[39;00m\n\u001B[1;32m    752\u001B[0m ping \u001B[38;5;241m=\u001B[39m \u001B[38;5;28mself\u001B[39m\u001B[38;5;241m.\u001B[39mgroupings[\u001B[38;5;241m0\u001B[39m]\n\u001B[0;32m--> 753\u001B[0m \u001B[38;5;28;01mreturn\u001B[39;00m \u001B[43mping\u001B[49m\u001B[38;5;241;43m.\u001B[39;49m\u001B[43mcodes\u001B[49m, np\u001B[38;5;241m.\u001B[39marange(\u001B[38;5;28mlen\u001B[39m(ping\u001B[38;5;241m.\u001B[39mgroup_index), dtype\u001B[38;5;241m=\u001B[39mnp\u001B[38;5;241m.\u001B[39mintp)\n",
      "File \u001B[0;32m~/opt/miniconda3/envs/Recipes/lib/python3.10/site-packages/pandas/core/groupby/grouper.py:691\u001B[0m, in \u001B[0;36mGrouping.codes\u001B[0;34m(self)\u001B[0m\n\u001B[1;32m    689\u001B[0m \u001B[38;5;129m@property\u001B[39m\n\u001B[1;32m    690\u001B[0m \u001B[38;5;28;01mdef\u001B[39;00m \u001B[38;5;21mcodes\u001B[39m(\u001B[38;5;28mself\u001B[39m) \u001B[38;5;241m-\u001B[39m\u001B[38;5;241m>\u001B[39m npt\u001B[38;5;241m.\u001B[39mNDArray[np\u001B[38;5;241m.\u001B[39msignedinteger]:\n\u001B[0;32m--> 691\u001B[0m     \u001B[38;5;28;01mreturn\u001B[39;00m \u001B[38;5;28;43mself\u001B[39;49m\u001B[38;5;241;43m.\u001B[39;49m\u001B[43m_codes_and_uniques\u001B[49m[\u001B[38;5;241m0\u001B[39m]\n",
      "File \u001B[0;32mproperties.pyx:36\u001B[0m, in \u001B[0;36mpandas._libs.properties.CachedProperty.__get__\u001B[0;34m()\u001B[0m\n",
      "File \u001B[0;32m~/opt/miniconda3/envs/Recipes/lib/python3.10/site-packages/pandas/core/groupby/grouper.py:801\u001B[0m, in \u001B[0;36mGrouping._codes_and_uniques\u001B[0;34m(self)\u001B[0m\n\u001B[1;32m    796\u001B[0m     uniques \u001B[38;5;241m=\u001B[39m \u001B[38;5;28mself\u001B[39m\u001B[38;5;241m.\u001B[39m_uniques\n\u001B[1;32m    797\u001B[0m \u001B[38;5;28;01melse\u001B[39;00m:\n\u001B[1;32m    798\u001B[0m     \u001B[38;5;66;03m# GH35667, replace dropna=False with use_na_sentinel=False\u001B[39;00m\n\u001B[1;32m    799\u001B[0m     \u001B[38;5;66;03m# error: Incompatible types in assignment (expression has type \"Union[\u001B[39;00m\n\u001B[1;32m    800\u001B[0m     \u001B[38;5;66;03m# ndarray[Any, Any], Index]\", variable has type \"Categorical\")\u001B[39;00m\n\u001B[0;32m--> 801\u001B[0m     codes, uniques \u001B[38;5;241m=\u001B[39m \u001B[43malgorithms\u001B[49m\u001B[38;5;241;43m.\u001B[39;49m\u001B[43mfactorize\u001B[49m\u001B[43m(\u001B[49m\u001B[43m  \u001B[49m\u001B[38;5;66;43;03m# type: ignore[assignment]\u001B[39;49;00m\n\u001B[1;32m    802\u001B[0m \u001B[43m        \u001B[49m\u001B[38;5;28;43mself\u001B[39;49m\u001B[38;5;241;43m.\u001B[39;49m\u001B[43mgrouping_vector\u001B[49m\u001B[43m,\u001B[49m\u001B[43m \u001B[49m\u001B[43msort\u001B[49m\u001B[38;5;241;43m=\u001B[39;49m\u001B[38;5;28;43mself\u001B[39;49m\u001B[38;5;241;43m.\u001B[39;49m\u001B[43m_sort\u001B[49m\u001B[43m,\u001B[49m\u001B[43m \u001B[49m\u001B[43muse_na_sentinel\u001B[49m\u001B[38;5;241;43m=\u001B[39;49m\u001B[38;5;28;43mself\u001B[39;49m\u001B[38;5;241;43m.\u001B[39;49m\u001B[43m_dropna\u001B[49m\n\u001B[1;32m    803\u001B[0m \u001B[43m    \u001B[49m\u001B[43m)\u001B[49m\n\u001B[1;32m    804\u001B[0m \u001B[38;5;28;01mreturn\u001B[39;00m codes, uniques\n",
      "File \u001B[0;32m~/opt/miniconda3/envs/Recipes/lib/python3.10/site-packages/pandas/core/algorithms.py:795\u001B[0m, in \u001B[0;36mfactorize\u001B[0;34m(values, sort, use_na_sentinel, size_hint)\u001B[0m\n\u001B[1;32m    792\u001B[0m             \u001B[38;5;66;03m# Don't modify (potentially user-provided) array\u001B[39;00m\n\u001B[1;32m    793\u001B[0m             values \u001B[38;5;241m=\u001B[39m np\u001B[38;5;241m.\u001B[39mwhere(null_mask, na_value, values)\n\u001B[0;32m--> 795\u001B[0m     codes, uniques \u001B[38;5;241m=\u001B[39m \u001B[43mfactorize_array\u001B[49m\u001B[43m(\u001B[49m\n\u001B[1;32m    796\u001B[0m \u001B[43m        \u001B[49m\u001B[43mvalues\u001B[49m\u001B[43m,\u001B[49m\n\u001B[1;32m    797\u001B[0m \u001B[43m        \u001B[49m\u001B[43muse_na_sentinel\u001B[49m\u001B[38;5;241;43m=\u001B[39;49m\u001B[43muse_na_sentinel\u001B[49m\u001B[43m,\u001B[49m\n\u001B[1;32m    798\u001B[0m \u001B[43m        \u001B[49m\u001B[43msize_hint\u001B[49m\u001B[38;5;241;43m=\u001B[39;49m\u001B[43msize_hint\u001B[49m\u001B[43m,\u001B[49m\n\u001B[1;32m    799\u001B[0m \u001B[43m    \u001B[49m\u001B[43m)\u001B[49m\n\u001B[1;32m    801\u001B[0m \u001B[38;5;28;01mif\u001B[39;00m sort \u001B[38;5;129;01mand\u001B[39;00m \u001B[38;5;28mlen\u001B[39m(uniques) \u001B[38;5;241m>\u001B[39m \u001B[38;5;241m0\u001B[39m:\n\u001B[1;32m    802\u001B[0m     uniques, codes \u001B[38;5;241m=\u001B[39m safe_sort(\n\u001B[1;32m    803\u001B[0m         uniques,\n\u001B[1;32m    804\u001B[0m         codes,\n\u001B[0;32m   (...)\u001B[0m\n\u001B[1;32m    807\u001B[0m         verify\u001B[38;5;241m=\u001B[39m\u001B[38;5;28;01mFalse\u001B[39;00m,\n\u001B[1;32m    808\u001B[0m     )\n",
      "File \u001B[0;32m~/opt/miniconda3/envs/Recipes/lib/python3.10/site-packages/pandas/core/algorithms.py:595\u001B[0m, in \u001B[0;36mfactorize_array\u001B[0;34m(values, use_na_sentinel, size_hint, na_value, mask)\u001B[0m\n\u001B[1;32m    592\u001B[0m hash_klass, values \u001B[38;5;241m=\u001B[39m _get_hashtable_algo(values)\n\u001B[1;32m    594\u001B[0m table \u001B[38;5;241m=\u001B[39m hash_klass(size_hint \u001B[38;5;129;01mor\u001B[39;00m \u001B[38;5;28mlen\u001B[39m(values))\n\u001B[0;32m--> 595\u001B[0m uniques, codes \u001B[38;5;241m=\u001B[39m \u001B[43mtable\u001B[49m\u001B[38;5;241;43m.\u001B[39;49m\u001B[43mfactorize\u001B[49m\u001B[43m(\u001B[49m\n\u001B[1;32m    596\u001B[0m \u001B[43m    \u001B[49m\u001B[43mvalues\u001B[49m\u001B[43m,\u001B[49m\n\u001B[1;32m    597\u001B[0m \u001B[43m    \u001B[49m\u001B[43mna_sentinel\u001B[49m\u001B[38;5;241;43m=\u001B[39;49m\u001B[38;5;241;43m-\u001B[39;49m\u001B[38;5;241;43m1\u001B[39;49m\u001B[43m,\u001B[49m\n\u001B[1;32m    598\u001B[0m \u001B[43m    \u001B[49m\u001B[43mna_value\u001B[49m\u001B[38;5;241;43m=\u001B[39;49m\u001B[43mna_value\u001B[49m\u001B[43m,\u001B[49m\n\u001B[1;32m    599\u001B[0m \u001B[43m    \u001B[49m\u001B[43mmask\u001B[49m\u001B[38;5;241;43m=\u001B[39;49m\u001B[43mmask\u001B[49m\u001B[43m,\u001B[49m\n\u001B[1;32m    600\u001B[0m \u001B[43m    \u001B[49m\u001B[43mignore_na\u001B[49m\u001B[38;5;241;43m=\u001B[39;49m\u001B[43muse_na_sentinel\u001B[49m\u001B[43m,\u001B[49m\n\u001B[1;32m    601\u001B[0m \u001B[43m\u001B[49m\u001B[43m)\u001B[49m\n\u001B[1;32m    603\u001B[0m \u001B[38;5;66;03m# re-cast e.g. i8->dt64/td64, uint8->bool\u001B[39;00m\n\u001B[1;32m    604\u001B[0m uniques \u001B[38;5;241m=\u001B[39m _reconstruct_data(uniques, original\u001B[38;5;241m.\u001B[39mdtype, original)\n",
      "File \u001B[0;32mpandas/_libs/hashtable_class_helper.pxi:7280\u001B[0m, in \u001B[0;36mpandas._libs.hashtable.PyObjectHashTable.factorize\u001B[0;34m()\u001B[0m\n",
      "File \u001B[0;32mpandas/_libs/hashtable_class_helper.pxi:7194\u001B[0m, in \u001B[0;36mpandas._libs.hashtable.PyObjectHashTable._unique\u001B[0;34m()\u001B[0m\n",
      "\u001B[0;31mTypeError\u001B[0m: unhashable type: 'list'"
     ]
    }
   ],
   "source": [
    "dfi[['title', 'clean']].groupby('clean').count().sort_values('title', ascending=False).head(10)"
   ]
  },
  {
   "cell_type": "markdown",
   "id": "521bf95f",
   "metadata": {},
   "source": [
    "# Get recipes based on ingredients"
   ]
  },
  {
   "cell_type": "code",
   "execution_count": null,
   "id": "bcc58927",
   "metadata": {},
   "outputs": [],
   "source": [
    "x = input('What ingredients would you like to use (only comma separated)? ').split(',')"
   ]
  },
  {
   "cell_type": "code",
   "execution_count": null,
   "id": "4111a3c8",
   "metadata": {},
   "outputs": [],
   "source": [
    "mask = ~df.ingredients.isna()\n",
    "for i in x:\n",
    "    mask &= df.ingredients.str.contains(i, case=False) \n",
    "print(f'Found {len(df[mask])} recipes with those ingredients')\n",
    "df[mask]"
   ]
  },
  {
   "cell_type": "markdown",
   "id": "59f92b95",
   "metadata": {},
   "source": [
    "# Randomly give recipes"
   ]
  },
  {
   "cell_type": "code",
   "execution_count": null,
   "id": "b2fdef0f",
   "metadata": {},
   "outputs": [],
   "source": [
    "n = int(input('How many recipes would you like?: '))"
   ]
  },
  {
   "cell_type": "code",
   "execution_count": null,
   "id": "d037eac8",
   "metadata": {},
   "outputs": [],
   "source": [
    "q = int(input('For how many people are you cooking?: '))"
   ]
  },
  {
   "cell_type": "code",
   "execution_count": 69,
   "id": "1facecab",
   "metadata": {},
   "outputs": [],
   "source": [
    "sample = random.sample(range(1,len(df)),n)"
   ]
  },
  {
   "cell_type": "code",
   "execution_count": 70,
   "id": "ebd07ab8",
   "metadata": {},
   "outputs": [
    {
     "data": {
      "text/plain": [
       "75       Sticky Chicken Wings & Egg - fried Rice\n",
       "191    Wild Garlic Potato Cakes & Carrot Chutney\n",
       "87                    Lime & Chilli Tofu Fajitas\n",
       "Name: title, dtype: object"
      ]
     },
     "execution_count": 70,
     "metadata": {},
     "output_type": "execute_result"
    }
   ],
   "source": [
    "df.loc[sample,'title']"
   ]
  },
  {
   "cell_type": "code",
   "execution_count": 71,
   "id": "e397dbf3",
   "metadata": {},
   "outputs": [],
   "source": [
    "s = ', '.join(df.loc[sample, 'ingredients'])"
   ]
  },
  {
   "cell_type": "code",
   "execution_count": 82,
   "id": "0b17d835",
   "metadata": {
    "collapsed": true
   },
   "outputs": [
    {
     "name": "stdout",
     "output_type": "stream",
     "text": [
      "1.5 tbsp sesame seeds \n",
      "150.0 g white basmati rice \n",
      "225.0 g mushrooms \n",
      "300.0 g spring greens \n",
      "3.0  eggs \n",
      "1.5 tbsp tamari \n",
      "1.5 tbsp toasted sesame oil \n",
      "3.0 packs hoisin sauce \n",
      "3.0 packs sweet chilli sauce \n",
      "0.4 tsps + 0.4 tsps chilli flakes - add to \n",
      "750.0 g potatoes \n",
      "1.5  onion \n",
      "3.0 large carrots \n",
      "30.0 g raisins \n",
      "1.5 tbsp cider vinegar \n",
      "1.5 tbsp honey \n",
      "150.0 g wild garlic \n",
      "30.0 g plain flour \n",
      "37.5 g butter \n",
      "75.0 g watercress \n",
      "1.5 pack tortillas \n",
      "300.0 g sweet mixed peppers \n",
      "1.5  lime \n",
      "3.0 tsps chilli flakes - add \n",
      "1.5 bag coriander \n",
      "75.0 g mixed salad leaves \n",
      "\n"
     ]
    }
   ],
   "source": [
    "# s = '100g mushroom, 5 onion, 5 mushroom'\n",
    "\n",
    "def agg_ingerdients(s, q): \n",
    "    obj = parse_ingredient(s)\n",
    "    ingredients = obj.name.text.split(', ')\n",
    "    whole = []\n",
    "    d = defaultdict(list)\n",
    "    for ing, a in zip(ingredients, obj.amount):\n",
    "        d[ing].append(f'{float(a.quantity)*(3/2):.1f} {a.unit}')\n",
    "    return d\n",
    "\n",
    "d = agg_ingerdients(s,q)\n",
    "out = ''\n",
    "for k,v in d.items():\n",
    "    v = ' + '.join(v)\n",
    "    out += v + ' '+ k + ' \\n'\n",
    "\n",
    "print(out)"
   ]
  },
  {
   "cell_type": "code",
   "execution_count": 35,
   "id": "a3da8d60",
   "metadata": {},
   "outputs": [],
   "source": [
    "\n"
   ]
  },
  {
   "cell_type": "code",
   "execution_count": null,
   "id": "c0aa8e57",
   "metadata": {},
   "outputs": [],
   "source": []
  },
  {
   "cell_type": "markdown",
   "id": "65933f0e",
   "metadata": {},
   "source": [
    "# Get grocery list"
   ]
  },
  {
   "cell_type": "code",
   "execution_count": 10,
   "id": "6ee6b7ac",
   "metadata": {},
   "outputs": [
    {
     "data": {
      "text/html": [
       "<div>\n",
       "<style scoped>\n",
       "    .dataframe tbody tr th:only-of-type {\n",
       "        vertical-align: middle;\n",
       "    }\n",
       "\n",
       "    .dataframe tbody tr th {\n",
       "        vertical-align: top;\n",
       "    }\n",
       "\n",
       "    .dataframe thead th {\n",
       "        text-align: right;\n",
       "    }\n",
       "</style>\n",
       "<table border=\"1\" class=\"dataframe\">\n",
       "  <thead>\n",
       "    <tr style=\"text-align: right;\">\n",
       "      <th></th>\n",
       "      <th>original_filename</th>\n",
       "      <th>title</th>\n",
       "      <th>instructions</th>\n",
       "      <th>ingredients</th>\n",
       "      <th>clean_ingr</th>\n",
       "      <th>clean</th>\n",
       "      <th>clean_ingredients</th>\n",
       "      <th>whole</th>\n",
       "      <th>addon</th>\n",
       "    </tr>\n",
       "  </thead>\n",
       "  <tbody>\n",
       "    <tr>\n",
       "      <th>0</th>\n",
       "      <td>IMG_1271.JPG</td>\n",
       "      <td>Greek Mushroom Ragù &amp; Olive Oil Mash</td>\n",
       "      <td>1. Peel, halve and finely slice the onion. Pee...</td>\n",
       "      <td>1 red onion, 2 garlic cloves, 200g portobello ...</td>\n",
       "      <td>red onion, garlic cloves,  portobello mushroom...</td>\n",
       "      <td>[red onion, portobello mushrooms, green olives...</td>\n",
       "      <td>[red onion, portobello mushrooms, green olives...</td>\n",
       "      <td>[1 red onion, 200g portobello mushrooms, 60g g...</td>\n",
       "      <td>2 garlic cloves, 1 tin dark green lentils, 1 G...</td>\n",
       "    </tr>\n",
       "    <tr>\n",
       "      <th>1</th>\n",
       "      <td>IMG_1270.JPG</td>\n",
       "      <td>Mushroom Risotto Stuffed Squash</td>\n",
       "      <td>1. Boil a kettle. Heat your oven to 190 ° C / ...</td>\n",
       "      <td>1 leek, 10g rosemary, 5g dried mushrooms, 1 sp...</td>\n",
       "      <td>leek,  rosemary,  dried mushrooms, spaghetti s...</td>\n",
       "      <td>[leek, rosemary, mushrooms, bouillon powder, b...</td>\n",
       "      <td>[leek, rosemary, mushrooms, bouillon powder, b...</td>\n",
       "      <td>[1 leek, 10g rosemary, 1tbsp mushrooms, 200g b...</td>\n",
       "      <td>5 g dried, 1 spaghetti squash, 2 x 0.5 tbsp, 2...</td>\n",
       "    </tr>\n",
       "    <tr>\n",
       "      <th>2</th>\n",
       "      <td>IMG_1268.JPG</td>\n",
       "      <td>Nasi Goreng with Peanuts &amp; Sriracha</td>\n",
       "      <td>1. Boil a kettle.\\n2. Using about a third of t...</td>\n",
       "      <td>1/3 cucumber, 1 tbsp rice vinegar, 1 tbsp ligh...</td>\n",
       "      <td>cucumber,  rice vinegar,  light brown sugar,  ...</td>\n",
       "      <td>[cucumber, rice vinegar, light brown sugar, br...</td>\n",
       "      <td>[cucumber, rice vinegar, light brown sugar, br...</td>\n",
       "      <td>[0.333 cucumber, 1tbsp rice vinegar, 1tbsp lig...</td>\n",
       "      <td>1 pointed cabbage, 1 large or 2 smaller carrot...</td>\n",
       "    </tr>\n",
       "    <tr>\n",
       "      <th>3</th>\n",
       "      <td>IMG_1269.JPG</td>\n",
       "      <td>Teriyaki Mushroom Rice &amp; Asian Slaw</td>\n",
       "      <td>1. Boil a kettle. Rinse the rice in a sieve. T...</td>\n",
       "      <td>150g brown basmati rice, 1 red onion, 1 carrot...</td>\n",
       "      <td>brown basmati rice, red onion, carrot, red ca...</td>\n",
       "      <td>[brown basmati rice, sweet chilli sauce, chill...</td>\n",
       "      <td>[brown basmati rice, sweet chilli sauce, chill...</td>\n",
       "      <td>[150g brown basmati rice, 1pack sweet chilli s...</td>\n",
       "      <td>1 red onion, 1 carrot, 1 red cabbage</td>\n",
       "    </tr>\n",
       "    <tr>\n",
       "      <th>4</th>\n",
       "      <td>IMG_1266.JPG</td>\n",
       "      <td>Greek Pasticcio &amp; Roasted Vegetables</td>\n",
       "      <td>1. Put a large saucepan of well - salted water...</td>\n",
       "      <td>2 red onions, 10g rosemary, 150g mushrooms, 1 ...</td>\n",
       "      <td>red onions,  rosemary,  mushrooms, garlic clov...</td>\n",
       "      <td>[red onions, rosemary, mushrooms, walnuts, haz...</td>\n",
       "      <td>[red onions, rosemary, mushrooms, walnuts, haz...</td>\n",
       "      <td>[2 red onions, 10g rosemary, 150g mushrooms, 5...</td>\n",
       "      <td>1 garlic clove, 25 g chopped toasted, 1 red pe...</td>\n",
       "    </tr>\n",
       "  </tbody>\n",
       "</table>\n",
       "</div>"
      ],
      "text/plain": [
       "  original_filename                                 title  \\\n",
       "0      IMG_1271.JPG  Greek Mushroom Ragù & Olive Oil Mash   \n",
       "1      IMG_1270.JPG       Mushroom Risotto Stuffed Squash   \n",
       "2      IMG_1268.JPG   Nasi Goreng with Peanuts & Sriracha   \n",
       "3      IMG_1269.JPG   Teriyaki Mushroom Rice & Asian Slaw   \n",
       "4      IMG_1266.JPG  Greek Pasticcio & Roasted Vegetables   \n",
       "\n",
       "                                        instructions  \\\n",
       "0  1. Peel, halve and finely slice the onion. Pee...   \n",
       "1  1. Boil a kettle. Heat your oven to 190 ° C / ...   \n",
       "2  1. Boil a kettle.\\n2. Using about a third of t...   \n",
       "3  1. Boil a kettle. Rinse the rice in a sieve. T...   \n",
       "4  1. Put a large saucepan of well - salted water...   \n",
       "\n",
       "                                         ingredients  \\\n",
       "0  1 red onion, 2 garlic cloves, 200g portobello ...   \n",
       "1  1 leek, 10g rosemary, 5g dried mushrooms, 1 sp...   \n",
       "2  1/3 cucumber, 1 tbsp rice vinegar, 1 tbsp ligh...   \n",
       "3  150g brown basmati rice, 1 red onion, 1 carrot...   \n",
       "4  2 red onions, 10g rosemary, 150g mushrooms, 1 ...   \n",
       "\n",
       "                                          clean_ingr  \\\n",
       "0  red onion, garlic cloves,  portobello mushroom...   \n",
       "1  leek,  rosemary,  dried mushrooms, spaghetti s...   \n",
       "2  cucumber,  rice vinegar,  light brown sugar,  ...   \n",
       "3   brown basmati rice, red onion, carrot, red ca...   \n",
       "4  red onions,  rosemary,  mushrooms, garlic clov...   \n",
       "\n",
       "                                               clean  \\\n",
       "0  [red onion, portobello mushrooms, green olives...   \n",
       "1  [leek, rosemary, mushrooms, bouillon powder, b...   \n",
       "2  [cucumber, rice vinegar, light brown sugar, br...   \n",
       "3  [brown basmati rice, sweet chilli sauce, chill...   \n",
       "4  [red onions, rosemary, mushrooms, walnuts, haz...   \n",
       "\n",
       "                                   clean_ingredients  \\\n",
       "0  [red onion, portobello mushrooms, green olives...   \n",
       "1  [leek, rosemary, mushrooms, bouillon powder, b...   \n",
       "2  [cucumber, rice vinegar, light brown sugar, br...   \n",
       "3  [brown basmati rice, sweet chilli sauce, chill...   \n",
       "4  [red onions, rosemary, mushrooms, walnuts, haz...   \n",
       "\n",
       "                                               whole  \\\n",
       "0  [1 red onion, 200g portobello mushrooms, 60g g...   \n",
       "1  [1 leek, 10g rosemary, 1tbsp mushrooms, 200g b...   \n",
       "2  [0.333 cucumber, 1tbsp rice vinegar, 1tbsp lig...   \n",
       "3  [150g brown basmati rice, 1pack sweet chilli s...   \n",
       "4  [2 red onions, 10g rosemary, 150g mushrooms, 5...   \n",
       "\n",
       "                                               addon  \n",
       "0  2 garlic cloves, 1 tin dark green lentils, 1 G...  \n",
       "1  5 g dried, 1 spaghetti squash, 2 x 0.5 tbsp, 2...  \n",
       "2  1 pointed cabbage, 1 large or 2 smaller carrot...  \n",
       "3               1 red onion, 1 carrot, 1 red cabbage  \n",
       "4  1 garlic clove, 25 g chopped toasted, 1 red pe...  "
      ]
     },
     "execution_count": 10,
     "metadata": {},
     "output_type": "execute_result"
    }
   ],
   "source": [
    "df.head()"
   ]
  },
  {
   "cell_type": "markdown",
   "id": "bb032d4c",
   "metadata": {},
   "source": [
    "Categories: Rice, Pasta, Wraps, Couscus, Salad, Stirfry, \n",
    "Other: Stirfry, Salad,\n"
   ]
  },
  {
   "cell_type": "code",
   "execution_count": 11,
   "id": "b98215e2",
   "metadata": {},
   "outputs": [],
   "source": [
    "df.to_csv('cleaned_recipes.csv')"
   ]
  },
  {
   "cell_type": "code",
   "execution_count": null,
   "id": "6bc9882e",
   "metadata": {},
   "outputs": [],
   "source": []
  },
  {
   "cell_type": "markdown",
   "id": "d7d6cfb8",
   "metadata": {},
   "source": [
    "# To Do\n",
    "* aggregate ingredients\n",
    "* in comment section there is an additional list of ingredients\n",
    "* similar recipes: topic modelling on the instructions. i.e. sentence embeddings"
   ]
  },
  {
   "cell_type": "markdown",
   "id": "6e3fd1d5",
   "metadata": {},
   "source": [
    "# Done\n",
    "* extract ingredients\n",
    "* topic modelling on ingredients\n",
    "* sample n number of recipes"
   ]
  },
  {
   "cell_type": "code",
   "execution_count": null,
   "id": "b7be48de",
   "metadata": {},
   "outputs": [],
   "source": []
  }
 ],
 "metadata": {
  "kernelspec": {
   "display_name": "Python 3 (ipykernel)",
   "language": "python",
   "name": "python3"
  },
  "language_info": {
   "codemirror_mode": {
    "name": "ipython",
    "version": 3
   },
   "file_extension": ".py",
   "mimetype": "text/x-python",
   "name": "python",
   "nbconvert_exporter": "python",
   "pygments_lexer": "ipython3",
   "version": "3.10.13"
  }
 },
 "nbformat": 4,
 "nbformat_minor": 5
}
