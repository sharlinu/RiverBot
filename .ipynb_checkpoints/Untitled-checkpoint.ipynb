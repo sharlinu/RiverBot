{
 "cells": [
  {
   "cell_type": "code",
   "execution_count": 4,
   "id": "681bf086",
   "metadata": {},
   "outputs": [],
   "source": [
    "import pandas as pd \n",
    "import regex as re\n",
    "from ingredient_parser import parse_ingredient\n",
    "import random\n",
    "from collections import Counter , defaultdict"
   ]
  },
  {
   "cell_type": "code",
   "execution_count": 5,
   "id": "62cea6d4",
   "metadata": {},
   "outputs": [],
   "source": [
    "# pd.set_option('display.max_rows', None)\n",
    "# pd.set_option('display.max_columns', None)\n",
    "# pd.set_option('display.width', None)\n",
    "pd.set_option('display.max_colwidth', None)\n",
    " \n",
    "# All dataframes hereafter reflect these changes.\n",
    "# display(df)\n",
    " \n",
    "# print('**RESET_OPTIONS**')\n",
    " \n",
    "# Resets the options\n",
    "# pd.reset_option('all')\n",
    "# display(df)"
   ]
  },
  {
   "cell_type": "code",
   "execution_count": 6,
   "id": "923258f5",
   "metadata": {},
   "outputs": [],
   "source": [
    "def clean(row):\n",
    "    row = re.sub(r\"(\\w)\\n(\\w)\",r'\\1 \\2', row)\n",
    "    row = re.sub(r\"\\s(\\.|\\,)\",r'\\1',  row)\n",
    "    return row\n",
    "\n",
    "def clean_ingr(row):\n",
    "    row = re.sub(r\"\\n\\s?\",', ', row)\n",
    "#     row = row.split(',')\n",
    "    return row\n",
    "\n",
    "def strip_ingr(row):\n",
    "    row = re.sub('½|¹ / 2', '', row)\n",
    "    row = re.sub(r'(\\n)?\\d/?\\d*(?:ml|kg|g|l|\\s)(?:tin|tbsp|tsp|packs|pack|bag|bags)?',r'\\1', row)\n",
    "    row = re.sub(\"\\(.*\\)\",'', row)\n",
    "    row = re.sub(\"\\(.*\\)\",'', row)\n",
    "    return row\n",
    "\n",
    "# add to taste -\\nadd to taste\n",
    "# -? optional \n",
    "# - you \n",
    "# 1. \n",
    "# 2 x 1\n",
    "# Ingr \n",
    "# 2-1 / 4\n",
    "\n",
    "#وت تے"
   ]
  },
  {
   "cell_type": "code",
   "execution_count": 7,
   "id": "056b1f5b",
   "metadata": {},
   "outputs": [],
   "source": [
    "df = pd.read_csv('recipes.csv')\n",
    "df.instructions = df.instructions.apply(clean)\n",
    "df.ingredients = df.ingredients.apply(lambda x: re.sub(r'.*Ingredients\\s?\\n','',x))\n",
    "df.ingredients = df.ingredients.apply(clean_ingr)\n",
    "df['clean_ingr'] = df.ingredients.apply(strip_ingr)\n",
    "df = df[~df.title.duplicated()]\n",
    "df['clean'] = df.ingredients.apply(lambda x: parse_ingredient(x).name.text.split(', '))"
   ]
  },
  {
   "cell_type": "code",
   "execution_count": 8,
   "id": "e647afdc",
   "metadata": {},
   "outputs": [],
   "source": [
    "def parser(row): \n",
    "    obj = parse_ingredient(row)\n",
    "    ingredients = obj.name.text.split(', ')\n",
    "    whole = []\n",
    "    for ing, a in zip(ingredients, obj.amount):\n",
    "        temp = a.quantity + a.unit + \" \" + ing\n",
    "        whole.append(temp)\n",
    "    return ingredients, whole, obj.comment.text\n",
    "#     print(whole)\n",
    "#     print(f'Additionally, these are some extras that might be essential and might be non-sense : {obj.comment.text}')\n",
    "\n",
    "df['clean_ingredients'], df['whole'], df['addon'] = zip(*df.ingredients.apply(lambda x: parser(x)))"
   ]
  },
  {
   "cell_type": "markdown",
   "id": "e438662b",
   "metadata": {},
   "source": [
    "## Top Ingredients "
   ]
  },
  {
   "cell_type": "code",
   "execution_count": 9,
   "id": "dfe9ae3f",
   "metadata": {},
   "outputs": [],
   "source": [
    "dfi= df.explode('clean_ingredients')"
   ]
  },
  {
   "cell_type": "code",
   "execution_count": 10,
   "id": "44da749d",
   "metadata": {
    "collapsed": true
   },
   "outputs": [
    {
     "ename": "TypeError",
     "evalue": "unhashable type: 'list'",
     "output_type": "error",
     "traceback": [
      "\u001b[0;31m---------------------------------------------------------------------------\u001b[0m",
      "\u001b[0;31mTypeError\u001b[0m                                 Traceback (most recent call last)",
      "Cell \u001b[0;32mIn[10], line 1\u001b[0m\n\u001b[0;32m----> 1\u001b[0m \u001b[43mdfi\u001b[49m\u001b[43m[\u001b[49m\u001b[43m[\u001b[49m\u001b[38;5;124;43m'\u001b[39;49m\u001b[38;5;124;43mtitle\u001b[39;49m\u001b[38;5;124;43m'\u001b[39;49m\u001b[43m,\u001b[49m\u001b[43m \u001b[49m\u001b[38;5;124;43m'\u001b[39;49m\u001b[38;5;124;43mclean\u001b[39;49m\u001b[38;5;124;43m'\u001b[39;49m\u001b[43m]\u001b[49m\u001b[43m]\u001b[49m\u001b[38;5;241;43m.\u001b[39;49m\u001b[43mgroupby\u001b[49m\u001b[43m(\u001b[49m\u001b[38;5;124;43m'\u001b[39;49m\u001b[38;5;124;43mclean\u001b[39;49m\u001b[38;5;124;43m'\u001b[39;49m\u001b[43m)\u001b[49m\u001b[38;5;241;43m.\u001b[39;49m\u001b[43mcount\u001b[49m\u001b[43m(\u001b[49m\u001b[43m)\u001b[49m\u001b[38;5;241m.\u001b[39msort_values(\u001b[38;5;124m'\u001b[39m\u001b[38;5;124mtitle\u001b[39m\u001b[38;5;124m'\u001b[39m, ascending\u001b[38;5;241m=\u001b[39m\u001b[38;5;28;01mFalse\u001b[39;00m)\u001b[38;5;241m.\u001b[39mhead(\u001b[38;5;241m10\u001b[39m)\n",
      "File \u001b[0;32m~/opt/miniconda3/envs/Recipes/lib/python3.10/site-packages/pandas/core/groupby/groupby.py:2248\u001b[0m, in \u001b[0;36mGroupBy.count\u001b[0;34m(self)\u001b[0m\n\u001b[1;32m   2192\u001b[0m \u001b[38;5;250m\u001b[39m\u001b[38;5;124;03m\"\"\"\u001b[39;00m\n\u001b[1;32m   2193\u001b[0m \u001b[38;5;124;03mCompute count of group, excluding missing values.\u001b[39;00m\n\u001b[1;32m   2194\u001b[0m \n\u001b[0;32m   (...)\u001b[0m\n\u001b[1;32m   2245\u001b[0m \u001b[38;5;124;03mFreq: MS, dtype: int64\u001b[39;00m\n\u001b[1;32m   2246\u001b[0m \u001b[38;5;124;03m\"\"\"\u001b[39;00m\n\u001b[1;32m   2247\u001b[0m data \u001b[38;5;241m=\u001b[39m \u001b[38;5;28mself\u001b[39m\u001b[38;5;241m.\u001b[39m_get_data_to_aggregate()\n\u001b[0;32m-> 2248\u001b[0m ids, _, ngroups \u001b[38;5;241m=\u001b[39m \u001b[38;5;28;43mself\u001b[39;49m\u001b[38;5;241;43m.\u001b[39;49m\u001b[43mgrouper\u001b[49m\u001b[38;5;241;43m.\u001b[39;49m\u001b[43mgroup_info\u001b[49m\n\u001b[1;32m   2249\u001b[0m mask \u001b[38;5;241m=\u001b[39m ids \u001b[38;5;241m!=\u001b[39m \u001b[38;5;241m-\u001b[39m\u001b[38;5;241m1\u001b[39m\n\u001b[1;32m   2251\u001b[0m is_series \u001b[38;5;241m=\u001b[39m data\u001b[38;5;241m.\u001b[39mndim \u001b[38;5;241m==\u001b[39m \u001b[38;5;241m1\u001b[39m\n",
      "File \u001b[0;32mproperties.pyx:36\u001b[0m, in \u001b[0;36mpandas._libs.properties.CachedProperty.__get__\u001b[0;34m()\u001b[0m\n",
      "File \u001b[0;32m~/opt/miniconda3/envs/Recipes/lib/python3.10/site-packages/pandas/core/groupby/ops.py:729\u001b[0m, in \u001b[0;36mBaseGrouper.group_info\u001b[0;34m(self)\u001b[0m\n\u001b[1;32m    727\u001b[0m \u001b[38;5;129m@cache_readonly\u001b[39m\n\u001b[1;32m    728\u001b[0m \u001b[38;5;28;01mdef\u001b[39;00m \u001b[38;5;21mgroup_info\u001b[39m(\u001b[38;5;28mself\u001b[39m) \u001b[38;5;241m-\u001b[39m\u001b[38;5;241m>\u001b[39m \u001b[38;5;28mtuple\u001b[39m[npt\u001b[38;5;241m.\u001b[39mNDArray[np\u001b[38;5;241m.\u001b[39mintp], npt\u001b[38;5;241m.\u001b[39mNDArray[np\u001b[38;5;241m.\u001b[39mintp], \u001b[38;5;28mint\u001b[39m]:\n\u001b[0;32m--> 729\u001b[0m     comp_ids, obs_group_ids \u001b[38;5;241m=\u001b[39m \u001b[38;5;28;43mself\u001b[39;49m\u001b[38;5;241;43m.\u001b[39;49m\u001b[43m_get_compressed_codes\u001b[49m\u001b[43m(\u001b[49m\u001b[43m)\u001b[49m\n\u001b[1;32m    731\u001b[0m     ngroups \u001b[38;5;241m=\u001b[39m \u001b[38;5;28mlen\u001b[39m(obs_group_ids)\n\u001b[1;32m    732\u001b[0m     comp_ids \u001b[38;5;241m=\u001b[39m ensure_platform_int(comp_ids)\n",
      "File \u001b[0;32m~/opt/miniconda3/envs/Recipes/lib/python3.10/site-packages/pandas/core/groupby/ops.py:753\u001b[0m, in \u001b[0;36mBaseGrouper._get_compressed_codes\u001b[0;34m(self)\u001b[0m\n\u001b[1;32m    750\u001b[0m     \u001b[38;5;66;03m# FIXME: compress_group_index's second return value is int64, not intp\u001b[39;00m\n\u001b[1;32m    752\u001b[0m ping \u001b[38;5;241m=\u001b[39m \u001b[38;5;28mself\u001b[39m\u001b[38;5;241m.\u001b[39mgroupings[\u001b[38;5;241m0\u001b[39m]\n\u001b[0;32m--> 753\u001b[0m \u001b[38;5;28;01mreturn\u001b[39;00m \u001b[43mping\u001b[49m\u001b[38;5;241;43m.\u001b[39;49m\u001b[43mcodes\u001b[49m, np\u001b[38;5;241m.\u001b[39marange(\u001b[38;5;28mlen\u001b[39m(ping\u001b[38;5;241m.\u001b[39mgroup_index), dtype\u001b[38;5;241m=\u001b[39mnp\u001b[38;5;241m.\u001b[39mintp)\n",
      "File \u001b[0;32m~/opt/miniconda3/envs/Recipes/lib/python3.10/site-packages/pandas/core/groupby/grouper.py:691\u001b[0m, in \u001b[0;36mGrouping.codes\u001b[0;34m(self)\u001b[0m\n\u001b[1;32m    689\u001b[0m \u001b[38;5;129m@property\u001b[39m\n\u001b[1;32m    690\u001b[0m \u001b[38;5;28;01mdef\u001b[39;00m \u001b[38;5;21mcodes\u001b[39m(\u001b[38;5;28mself\u001b[39m) \u001b[38;5;241m-\u001b[39m\u001b[38;5;241m>\u001b[39m npt\u001b[38;5;241m.\u001b[39mNDArray[np\u001b[38;5;241m.\u001b[39msignedinteger]:\n\u001b[0;32m--> 691\u001b[0m     \u001b[38;5;28;01mreturn\u001b[39;00m \u001b[38;5;28;43mself\u001b[39;49m\u001b[38;5;241;43m.\u001b[39;49m\u001b[43m_codes_and_uniques\u001b[49m[\u001b[38;5;241m0\u001b[39m]\n",
      "File \u001b[0;32mproperties.pyx:36\u001b[0m, in \u001b[0;36mpandas._libs.properties.CachedProperty.__get__\u001b[0;34m()\u001b[0m\n",
      "File \u001b[0;32m~/opt/miniconda3/envs/Recipes/lib/python3.10/site-packages/pandas/core/groupby/grouper.py:801\u001b[0m, in \u001b[0;36mGrouping._codes_and_uniques\u001b[0;34m(self)\u001b[0m\n\u001b[1;32m    796\u001b[0m     uniques \u001b[38;5;241m=\u001b[39m \u001b[38;5;28mself\u001b[39m\u001b[38;5;241m.\u001b[39m_uniques\n\u001b[1;32m    797\u001b[0m \u001b[38;5;28;01melse\u001b[39;00m:\n\u001b[1;32m    798\u001b[0m     \u001b[38;5;66;03m# GH35667, replace dropna=False with use_na_sentinel=False\u001b[39;00m\n\u001b[1;32m    799\u001b[0m     \u001b[38;5;66;03m# error: Incompatible types in assignment (expression has type \"Union[\u001b[39;00m\n\u001b[1;32m    800\u001b[0m     \u001b[38;5;66;03m# ndarray[Any, Any], Index]\", variable has type \"Categorical\")\u001b[39;00m\n\u001b[0;32m--> 801\u001b[0m     codes, uniques \u001b[38;5;241m=\u001b[39m \u001b[43malgorithms\u001b[49m\u001b[38;5;241;43m.\u001b[39;49m\u001b[43mfactorize\u001b[49m\u001b[43m(\u001b[49m\u001b[43m  \u001b[49m\u001b[38;5;66;43;03m# type: ignore[assignment]\u001b[39;49;00m\n\u001b[1;32m    802\u001b[0m \u001b[43m        \u001b[49m\u001b[38;5;28;43mself\u001b[39;49m\u001b[38;5;241;43m.\u001b[39;49m\u001b[43mgrouping_vector\u001b[49m\u001b[43m,\u001b[49m\u001b[43m \u001b[49m\u001b[43msort\u001b[49m\u001b[38;5;241;43m=\u001b[39;49m\u001b[38;5;28;43mself\u001b[39;49m\u001b[38;5;241;43m.\u001b[39;49m\u001b[43m_sort\u001b[49m\u001b[43m,\u001b[49m\u001b[43m \u001b[49m\u001b[43muse_na_sentinel\u001b[49m\u001b[38;5;241;43m=\u001b[39;49m\u001b[38;5;28;43mself\u001b[39;49m\u001b[38;5;241;43m.\u001b[39;49m\u001b[43m_dropna\u001b[49m\n\u001b[1;32m    803\u001b[0m \u001b[43m    \u001b[49m\u001b[43m)\u001b[49m\n\u001b[1;32m    804\u001b[0m \u001b[38;5;28;01mreturn\u001b[39;00m codes, uniques\n",
      "File \u001b[0;32m~/opt/miniconda3/envs/Recipes/lib/python3.10/site-packages/pandas/core/algorithms.py:795\u001b[0m, in \u001b[0;36mfactorize\u001b[0;34m(values, sort, use_na_sentinel, size_hint)\u001b[0m\n\u001b[1;32m    792\u001b[0m             \u001b[38;5;66;03m# Don't modify (potentially user-provided) array\u001b[39;00m\n\u001b[1;32m    793\u001b[0m             values \u001b[38;5;241m=\u001b[39m np\u001b[38;5;241m.\u001b[39mwhere(null_mask, na_value, values)\n\u001b[0;32m--> 795\u001b[0m     codes, uniques \u001b[38;5;241m=\u001b[39m \u001b[43mfactorize_array\u001b[49m\u001b[43m(\u001b[49m\n\u001b[1;32m    796\u001b[0m \u001b[43m        \u001b[49m\u001b[43mvalues\u001b[49m\u001b[43m,\u001b[49m\n\u001b[1;32m    797\u001b[0m \u001b[43m        \u001b[49m\u001b[43muse_na_sentinel\u001b[49m\u001b[38;5;241;43m=\u001b[39;49m\u001b[43muse_na_sentinel\u001b[49m\u001b[43m,\u001b[49m\n\u001b[1;32m    798\u001b[0m \u001b[43m        \u001b[49m\u001b[43msize_hint\u001b[49m\u001b[38;5;241;43m=\u001b[39;49m\u001b[43msize_hint\u001b[49m\u001b[43m,\u001b[49m\n\u001b[1;32m    799\u001b[0m \u001b[43m    \u001b[49m\u001b[43m)\u001b[49m\n\u001b[1;32m    801\u001b[0m \u001b[38;5;28;01mif\u001b[39;00m sort \u001b[38;5;129;01mand\u001b[39;00m \u001b[38;5;28mlen\u001b[39m(uniques) \u001b[38;5;241m>\u001b[39m \u001b[38;5;241m0\u001b[39m:\n\u001b[1;32m    802\u001b[0m     uniques, codes \u001b[38;5;241m=\u001b[39m safe_sort(\n\u001b[1;32m    803\u001b[0m         uniques,\n\u001b[1;32m    804\u001b[0m         codes,\n\u001b[0;32m   (...)\u001b[0m\n\u001b[1;32m    807\u001b[0m         verify\u001b[38;5;241m=\u001b[39m\u001b[38;5;28;01mFalse\u001b[39;00m,\n\u001b[1;32m    808\u001b[0m     )\n",
      "File \u001b[0;32m~/opt/miniconda3/envs/Recipes/lib/python3.10/site-packages/pandas/core/algorithms.py:595\u001b[0m, in \u001b[0;36mfactorize_array\u001b[0;34m(values, use_na_sentinel, size_hint, na_value, mask)\u001b[0m\n\u001b[1;32m    592\u001b[0m hash_klass, values \u001b[38;5;241m=\u001b[39m _get_hashtable_algo(values)\n\u001b[1;32m    594\u001b[0m table \u001b[38;5;241m=\u001b[39m hash_klass(size_hint \u001b[38;5;129;01mor\u001b[39;00m \u001b[38;5;28mlen\u001b[39m(values))\n\u001b[0;32m--> 595\u001b[0m uniques, codes \u001b[38;5;241m=\u001b[39m \u001b[43mtable\u001b[49m\u001b[38;5;241;43m.\u001b[39;49m\u001b[43mfactorize\u001b[49m\u001b[43m(\u001b[49m\n\u001b[1;32m    596\u001b[0m \u001b[43m    \u001b[49m\u001b[43mvalues\u001b[49m\u001b[43m,\u001b[49m\n\u001b[1;32m    597\u001b[0m \u001b[43m    \u001b[49m\u001b[43mna_sentinel\u001b[49m\u001b[38;5;241;43m=\u001b[39;49m\u001b[38;5;241;43m-\u001b[39;49m\u001b[38;5;241;43m1\u001b[39;49m\u001b[43m,\u001b[49m\n\u001b[1;32m    598\u001b[0m \u001b[43m    \u001b[49m\u001b[43mna_value\u001b[49m\u001b[38;5;241;43m=\u001b[39;49m\u001b[43mna_value\u001b[49m\u001b[43m,\u001b[49m\n\u001b[1;32m    599\u001b[0m \u001b[43m    \u001b[49m\u001b[43mmask\u001b[49m\u001b[38;5;241;43m=\u001b[39;49m\u001b[43mmask\u001b[49m\u001b[43m,\u001b[49m\n\u001b[1;32m    600\u001b[0m \u001b[43m    \u001b[49m\u001b[43mignore_na\u001b[49m\u001b[38;5;241;43m=\u001b[39;49m\u001b[43muse_na_sentinel\u001b[49m\u001b[43m,\u001b[49m\n\u001b[1;32m    601\u001b[0m \u001b[43m\u001b[49m\u001b[43m)\u001b[49m\n\u001b[1;32m    603\u001b[0m \u001b[38;5;66;03m# re-cast e.g. i8->dt64/td64, uint8->bool\u001b[39;00m\n\u001b[1;32m    604\u001b[0m uniques \u001b[38;5;241m=\u001b[39m _reconstruct_data(uniques, original\u001b[38;5;241m.\u001b[39mdtype, original)\n",
      "File \u001b[0;32mpandas/_libs/hashtable_class_helper.pxi:7280\u001b[0m, in \u001b[0;36mpandas._libs.hashtable.PyObjectHashTable.factorize\u001b[0;34m()\u001b[0m\n",
      "File \u001b[0;32mpandas/_libs/hashtable_class_helper.pxi:7194\u001b[0m, in \u001b[0;36mpandas._libs.hashtable.PyObjectHashTable._unique\u001b[0;34m()\u001b[0m\n",
      "\u001b[0;31mTypeError\u001b[0m: unhashable type: 'list'"
     ]
    }
   ],
   "source": [
    "dfi[['title', 'clean']].groupby('clean').count().sort_values('title', ascending=False).head(10)"
   ]
  },
  {
   "cell_type": "markdown",
   "id": "521bf95f",
   "metadata": {},
   "source": [
    "# Get recipes based on ingredients"
   ]
  },
  {
   "cell_type": "code",
   "execution_count": null,
   "id": "bcc58927",
   "metadata": {},
   "outputs": [],
   "source": [
    "x = input('What ingredients would you like to use (only comma separated)? ').split(',')"
   ]
  },
  {
   "cell_type": "code",
   "execution_count": null,
   "id": "4111a3c8",
   "metadata": {},
   "outputs": [],
   "source": [
    "mask = ~df.ingredients.isna()\n",
    "for i in x:\n",
    "    mask &= df.ingredients.str.contains(i, case=False) \n",
    "print(f'Found {len(df[mask])} recipes with those ingredients')\n",
    "df[mask]"
   ]
  },
  {
   "cell_type": "markdown",
   "id": "59f92b95",
   "metadata": {},
   "source": [
    "# Randomly give recipes"
   ]
  },
  {
   "cell_type": "code",
   "execution_count": 67,
   "id": "b2fdef0f",
   "metadata": {},
   "outputs": [
    {
     "name": "stdout",
     "output_type": "stream",
     "text": [
      "How many recipes would you like?: 3\n"
     ]
    }
   ],
   "source": [
    "n = int(input('How many recipes would you like?: '))"
   ]
  },
  {
   "cell_type": "code",
   "execution_count": 68,
   "id": "d037eac8",
   "metadata": {},
   "outputs": [
    {
     "name": "stdout",
     "output_type": "stream",
     "text": [
      "For how many people are you cooking?: 3\n"
     ]
    }
   ],
   "source": [
    "q = int(input('For how many people are you cooking?: '))"
   ]
  },
  {
   "cell_type": "code",
   "execution_count": 69,
   "id": "1facecab",
   "metadata": {},
   "outputs": [],
   "source": [
    "sample = random.sample(range(1,len(df)),n)"
   ]
  },
  {
   "cell_type": "code",
   "execution_count": 70,
   "id": "ebd07ab8",
   "metadata": {},
   "outputs": [
    {
     "data": {
      "text/plain": [
       "75       Sticky Chicken Wings & Egg - fried Rice\n",
       "191    Wild Garlic Potato Cakes & Carrot Chutney\n",
       "87                    Lime & Chilli Tofu Fajitas\n",
       "Name: title, dtype: object"
      ]
     },
     "execution_count": 70,
     "metadata": {},
     "output_type": "execute_result"
    }
   ],
   "source": [
    "df.loc[sample,'title']"
   ]
  },
  {
   "cell_type": "code",
   "execution_count": 71,
   "id": "e397dbf3",
   "metadata": {},
   "outputs": [],
   "source": [
    "s = ', '.join(df.loc[sample, 'ingredients'])"
   ]
  },
  {
   "cell_type": "code",
   "execution_count": 82,
   "id": "0b17d835",
   "metadata": {
    "collapsed": true
   },
   "outputs": [
    {
     "name": "stdout",
     "output_type": "stream",
     "text": [
      "1.5 tbsp sesame seeds \n",
      "150.0 g white basmati rice \n",
      "225.0 g mushrooms \n",
      "300.0 g spring greens \n",
      "3.0  eggs \n",
      "1.5 tbsp tamari \n",
      "1.5 tbsp toasted sesame oil \n",
      "3.0 packs hoisin sauce \n",
      "3.0 packs sweet chilli sauce \n",
      "0.4 tsps + 0.4 tsps chilli flakes - add to \n",
      "750.0 g potatoes \n",
      "1.5  onion \n",
      "3.0 large carrots \n",
      "30.0 g raisins \n",
      "1.5 tbsp cider vinegar \n",
      "1.5 tbsp honey \n",
      "150.0 g wild garlic \n",
      "30.0 g plain flour \n",
      "37.5 g butter \n",
      "75.0 g watercress \n",
      "1.5 pack tortillas \n",
      "300.0 g sweet mixed peppers \n",
      "1.5  lime \n",
      "3.0 tsps chilli flakes - add \n",
      "1.5 bag coriander \n",
      "75.0 g mixed salad leaves \n",
      "\n"
     ]
    }
   ],
   "source": [
    "# s = '100g mushroom, 5 onion, 5 mushroom'\n",
    "\n",
    "def agg_ingerdients(s, q): \n",
    "    obj = parse_ingredient(s)\n",
    "    ingredients = obj.name.text.split(', ')\n",
    "    whole = []\n",
    "    d = defaultdict(list)\n",
    "    for ing, a in zip(ingredients, obj.amount):\n",
    "        d[ing].append(f'{float(a.quantity)*(3/2):.1f} {a.unit}')\n",
    "    return d\n",
    "\n",
    "d = agg_ingerdients(s,q)\n",
    "out = ''\n",
    "for k,v in d.items():\n",
    "    v = ' + '.join(v)\n",
    "    out += v + ' '+ k + ' \\n'\n",
    "\n",
    "print(out)"
   ]
  },
  {
   "cell_type": "code",
   "execution_count": 35,
   "id": "a3da8d60",
   "metadata": {},
   "outputs": [],
   "source": [
    "\n"
   ]
  },
  {
   "cell_type": "code",
   "execution_count": null,
   "id": "c0aa8e57",
   "metadata": {},
   "outputs": [],
   "source": []
  },
  {
   "cell_type": "markdown",
   "id": "65933f0e",
   "metadata": {},
   "source": [
    "# Get grocery list"
   ]
  },
  {
   "cell_type": "code",
   "execution_count": 11,
   "id": "6ee6b7ac",
   "metadata": {
    "collapsed": true
   },
   "outputs": [
    {
     "data": {
      "text/html": [
       "<div>\n",
       "<style scoped>\n",
       "    .dataframe tbody tr th:only-of-type {\n",
       "        vertical-align: middle;\n",
       "    }\n",
       "\n",
       "    .dataframe tbody tr th {\n",
       "        vertical-align: top;\n",
       "    }\n",
       "\n",
       "    .dataframe thead th {\n",
       "        text-align: right;\n",
       "    }\n",
       "</style>\n",
       "<table border=\"1\" class=\"dataframe\">\n",
       "  <thead>\n",
       "    <tr style=\"text-align: right;\">\n",
       "      <th></th>\n",
       "      <th>original_filename</th>\n",
       "      <th>title</th>\n",
       "      <th>instructions</th>\n",
       "      <th>ingredients</th>\n",
       "      <th>clean_ingr</th>\n",
       "      <th>clean</th>\n",
       "      <th>clean_ingredients</th>\n",
       "      <th>whole</th>\n",
       "      <th>addon</th>\n",
       "    </tr>\n",
       "  </thead>\n",
       "  <tbody>\n",
       "    <tr>\n",
       "      <th>0</th>\n",
       "      <td>IMG_1271.JPG</td>\n",
       "      <td>Greek Mushroom Ragù &amp; Olive Oil Mash</td>\n",
       "      <td>1. Peel, halve and finely slice the onion. Peel and finely chop the garlic. Slice the mushrooms ( 1 cm ). Halve the olives.\\n2. Boil a kettle. Peel and chop the potatoes into 2-3cm chunks. Transfer the potatoes to a medium saucepan. Add 2 good pinches of salt. Cover well with boiled water. Bring to a low boil. Cook for 8-10 mins, until tender, while you continue.\\n3. Heat 2 tbsp of oil in a large frying pan. Gently fry the onion for 5 mins, stirring now and then. Increase the heat, add the mushrooms and cook for 4 mins, until starting to soften.\\n4. Drain the cooked potatoes, then transfer them back to their saucepan. Set aside for now. Drain and rinse the lentils.\\n5. Stir the garlic and Greek spice pot into the mushrooms.\\nPour in the wine. Let it bubble and reduce by 1/2. Add the lentils and passata. Fill the empty passata pot with water. Add that. Season. Bring to a low - medium boil. Cook for 5 míns. Stir often and keep an eye on the liquid - you don't want ' it too sloppy but add a splash more water if needed.\\n6. Roughly chop the parsley leaves.\\n7. Mash the potatoes with 2 tbsp of olive oil. Season to taste. Gently reheat while you stir the spinach into the mushroom pan in handfuls, until wilted, 1-2 mins.\\n8. Check the mushroom seasoning. Stir in 1/2 the parsley and add a squeeze of lemon juice to taste. Serve with the mash, sprinkled with remaining parsley.</td>\n",
       "      <td>1 red onion, 2 garlic cloves, 200g portobello mushrooms, 60g green olives, 500g potatoes, 1 tin dark green lentils, 1 Greek spice pot, 100ml red wine, 200ml passata, 15g parsley, 200g spinach, 1 lemon</td>\n",
       "      <td>red onion, garlic cloves,  portobello mushrooms,  green olives,  potatoes,  dark green lentils, Greek spice pot,  red wine,  passata,  parsley,  spinach, lemon</td>\n",
       "      <td>[red onion, portobello mushrooms, green olives, potatoes, red wine, passata, parsley, spinach, lemon]</td>\n",
       "      <td>[red onion, portobello mushrooms, green olives, potatoes, red wine, passata, parsley, spinach, lemon]</td>\n",
       "      <td>[1 red onion, 200g portobello mushrooms, 60g green olives, 500g potatoes, 100ml red wine, 200ml passata, 15g parsley, 200g spinach, 1 lemon]</td>\n",
       "      <td>2 garlic cloves, 1 tin dark green lentils, 1 Greek spice pot</td>\n",
       "    </tr>\n",
       "    <tr>\n",
       "      <th>1</th>\n",
       "      <td>IMG_1270.JPG</td>\n",
       "      <td>Mushroom Risotto Stuffed Squash</td>\n",
       "      <td>1. Boil a kettle. Heat your oven to 190 ° C / Gas 5. Trim and halve the leek, lengthways ; thinly shred. Finely chop the rosemary leaves. Put the dried mushroom in a heatproof bowl or mug.\\nCover with boiled water and set aside.\\n2. Heat 2 tbsp of oil in a large pan. Gently stir - fry the leek and rosemary for 10 mins while you continue.\\n3. Halve the squash, lengthways. Scoop out the seeds. In a roasting tin, drizzle the cut sides of squash with oil, season,\\nand place, cut - side down, in the tin. Roast for approx. 35-40 mins, until tender ( depending on the size of your squash ).\\n4. Place the bouillon and miso in a medium pan. Add 1 litre of\\n( warm ) water from the kettle. Place on a low heat on the hob.\\nPeel and finely chop the garlic. Thinly slice the mushrooms.\\n5. Stir the garlic and rice into the leek, until the rice grains look translucent ( approx. 1-2 mins ). Add the wine and let it bubble and reduce. Roughly chop the soaked dried mushrooms.\\nAdd to the rice together with all but the last gritty bit of soaking liquor and the fresh mushrooms.\\n6. Gradually add ladles of miso stock, allowing each to reduce, until the rice is tender ( approx. 25 mins ), while you continue.\\n7. Chop the radicchio through the root into 4-6 wedges. Strip 1 good tbsp of thyme leaves. Toss the radicchio in a bowl in oil to coat. Stir in the thyme leaves. Season.\\n8. Roughly chop the hazelnuts. When the risotto and squash are almost ready, fry the radicchio for a few mins on each side, until it starts to colour. Sprinkle a little chilli over the squash ( optional ) and fill with the risotto. Serve with the radicchio, sprinkled with a little vinegar and the hazelnuts.</td>\n",
       "      <td>1 leek, 10g rosemary, 5g dried mushrooms, 1 spaghetti squash, 2 x 1/2 tbsp bouillon powder, 1 tbsp brown rice miso, 2 garlic cloves, 200g mushrooms, 150g risotto rice, 100ml white wine, 1 head radicchio, 10g thyme, 50g whole toasted hazelnuts, 1/4 tsp dried chilli flakes -, optional, 1 tbsp balsamic vinegar</td>\n",
       "      <td>leek,  rosemary,  dried mushrooms, spaghetti squash, x  bouillon powder,  brown rice miso, garlic cloves,  mushrooms,  risotto rice,  white wine, head radicchio,  thyme,  whole toasted hazelnuts,  dried chilli flakes -, optional,  balsamic vinegar</td>\n",
       "      <td>[leek, rosemary, mushrooms, bouillon powder, brown rice miso, mushrooms, risotto rice, radicchio, thyme, hazelnuts, dried chilli flakes -, balsamic vinegar]</td>\n",
       "      <td>[leek, rosemary, mushrooms, bouillon powder, brown rice miso, mushrooms, risotto rice, radicchio, thyme, hazelnuts, dried chilli flakes -, balsamic vinegar]</td>\n",
       "      <td>[1 leek, 10g rosemary, 1tbsp mushrooms, 200g bouillon powder, 150g brown rice miso, 1head mushrooms, 10g risotto rice, 0.25tsps radicchio, 1tbsp thyme]</td>\n",
       "      <td>5 g dried, 1 spaghetti squash, 2 x 0.5 tbsp, 2 garlic cloves, 100 ml white wine, 50 g whole toasted, optional</td>\n",
       "    </tr>\n",
       "    <tr>\n",
       "      <th>2</th>\n",
       "      <td>IMG_1268.JPG</td>\n",
       "      <td>Nasi Goreng with Peanuts &amp; Sriracha</td>\n",
       "      <td>1. Boil a kettle.\\n2. Using about a third of the cucumber,\\nhalve it lengthways, then slice into thin half - moon shapes. Mix it in a bowl with the vinegar and sugar. Set aside.\\nGive it a mix now and then.\\n3. Rinse the rice in a sieve under cold water, until the water runs clear.\\nTransfer it to a medium saucepan with a pinch of salt. Add plenty of boiled water and cook for 18-20 minutes, while you continue, until just tender with a little bite.\\n4. Shred a couple of handfuls of cabbage.\\nTrim and thinly slice the spring onions, including the green parts.\\n5. Peel and coarsely grate the carrot ( s ).\\nChop the coriander, stalks and all.\\nRoughly chop the peanuts.\\n6. In a large frying pan, toast the Deanuts for 2-3 minutes, then transfer to a plate.\\n7. Heat 1/2 tbsp of oil in the same frying pan. Fry half the spring onions ( reserving the green tops to garnish ) with the cabbage, ground ginger and half the chilli flakes for 2-3 minutes, to soften them all slightly ( see tip ). Season and add a squeeze of lime to taste, then transfer to a plate and cover with another upside - down plate to keep it warm.\\n8. Wipe the frying pan clean, then heat 1/2 tbsp of oil. Fry the eggs for 2-3 minutes, to your liking - we like a runny yolk !\\n9. Drain the cooked rice. Serve with the stir - fried veg, grated carrot, pickled cucumber, and an egg on top.\\n10. Drizzle over some sriracha to your liking, then scatter over the peanuts, reserved spring onion tops,\\ncoriander and more chilli flakes too, if you like. Add extra wedges of lime, if you like.</td>\n",
       "      <td>1/3 cucumber, 1 tbsp rice vinegar, 1 tbsp light brown sugar, 150g brown basmati rice, 1 pointed cabbage, 1 bunch spring onions, 1 large or 2 smaller carrots, 1 bag coriander, 30g peanuts, ¹ / 2 tsp ground ginger, 1/4 tsp chilli flakes, 1 lime, 2 eggs, 2 packs sriracha</td>\n",
       "      <td>cucumber,  rice vinegar,  light brown sugar,  brown basmati rice, pointed cabbage, bunch spring onions, large or smaller carrots,  coriander,  peanuts,  tsp ground ginger,  chilli flakes, lime, eggs,  sriracha</td>\n",
       "      <td>[cucumber, rice vinegar, light brown sugar, brown basmati rice, spring onions, coriander, peanuts, ground ginger, chilli flakes, eggs, sriracha]</td>\n",
       "      <td>[cucumber, rice vinegar, light brown sugar, brown basmati rice, spring onions, coriander, peanuts, ground ginger, chilli flakes, eggs, sriracha]</td>\n",
       "      <td>[0.333 cucumber, 1tbsp rice vinegar, 1tbsp light brown sugar, 150g brown basmati rice, 1bunch spring onions, 1bag coriander, 30g peanuts, 2tsps ground ginger, 0.25tsps chilli flakes, 2 eggs, 2packs sriracha]</td>\n",
       "      <td>1 pointed cabbage, 1 large or 2 smaller carrots, ¹ /, 1 lime</td>\n",
       "    </tr>\n",
       "    <tr>\n",
       "      <th>3</th>\n",
       "      <td>IMG_1269.JPG</td>\n",
       "      <td>Teriyaki Mushroom Rice &amp; Asian Slaw</td>\n",
       "      <td>1. Boil a kettle. Rinse the rice in a sieve. Transfer it to a medium saucepan. Add plenty of boiled water and a good couple of pinches of salt. Bring to the boil and cook for 20 mins,\\nuntil tender with a little bite.\\n2. Peel and finely slice the onion ; place 1/2 in a large bowl. Peel and coarsely grate the carrot ; add it to the bowl. Finely shred 2 handfuls of cabbage ; add that, too. Add the sweet chilli sauce, a pinch of chilli flakes ( to your taste ), and a little lime juice. Season. Set aside. This is your slaw.\\n3. Thinly slice the mushrooms. Chop the coriander, stalks and all.\\n4. In a large dry frying pan, heat the cashews on a medium low heat for 3-4 mins, stirring regularly, until light golden and toasted. Transfer to your board and give them a rough chop.\\n5. Heat 2 tbsp of oil in the same frying pan. Stir - fry the mushrooms and remaining onion on a medium - high heat for 4 mins. Add the teriyaki sauce, mirin, and 1/2 the tam Let it bubble and reduce slightly, approx. 30 secs - 1 min.\\nRemove the pan from the heat.\\n6. Drain the cooked rice into a sieve. Use a spoon to press out as much excess water as you can. Stir it into the mushrooms with the toasted sesame oil. Add more tamari, to taste. Season ( don't overdo the salt, as the tamari is already salty ).\\n7. Mix the coriander into the slaw. Check the seasoning.\\n8. Serve the mushroom rice topped with cashews, with the slaw and extra wedges of remaining lime on the side., approx.</td>\n",
       "      <td>150g brown basmati rice, 1 red onion, 1 carrot, 1 red cabbage, 1 pack sweet chilli sauce, 1/4 tsp chilli flakes, lime, 400g mushrooms, 15g coriander, 25g cashews, 50ml teriyaki sauce, 1 tbsp mirin, 2 tbsp tamari, 1 tbsp toasted sesame oil</td>\n",
       "      <td>brown basmati rice, red onion, carrot, red cabbage,  sweet chilli sauce,  chilli flakes, lime,  mushrooms,  coriander,  cashews,  teriyaki sauce,  mirin,  tamari,  toasted sesame oil</td>\n",
       "      <td>[brown basmati rice, sweet chilli sauce, chilli flakes, lime, mushrooms, coriander, cashews, teriyaki sauce, mirin, tamari, toasted sesame oil]</td>\n",
       "      <td>[brown basmati rice, sweet chilli sauce, chilli flakes, lime, mushrooms, coriander, cashews, teriyaki sauce, mirin, tamari, toasted sesame oil]</td>\n",
       "      <td>[150g brown basmati rice, 1pack sweet chilli sauce, 0.25tsps chilli flakes, 400g lime, 15g mushrooms, 25g coriander, 50ml cashews, 1tbsp teriyaki sauce, 2tbsps mirin, 1tbsp tamari]</td>\n",
       "      <td>1 red onion, 1 carrot, 1 red cabbage</td>\n",
       "    </tr>\n",
       "    <tr>\n",
       "      <th>4</th>\n",
       "      <td>IMG_1266.JPG</td>\n",
       "      <td>Greek Pasticcio &amp; Roasted Vegetables</td>\n",
       "      <td>1. Put a large saucepan of well - salted water on to boil. Peel and finely dice 1 onion. Heat 2 tbsp of oil in a medium saucepan. Start gently frying the onion, while you continue.\\n2. Strip off and finely chop the rosemary leaves. Add to the onion and fry for a further 5 mins, while you finely dice the mushrooms and peel and finely chop the garlic.\\n3. Heat your oven to 190 ° C / Gas 5. Stir the mushrooms and garlic into the onion. Season. Cook on a low - medium heat for 5-6 mins, until the mushrooms have softened.\\n4. Toast the walnuts in a dry frying pan for 3-4 mins. Chop them quite finely ( about the size of the chopped hazelnuts ).\\n5. Stir the flour into the mushroom mix. Cook for 2 mins, then stir in the Worcester sauce, cinnamon, passata, soy cream and 3 tbsp of water. Simmer for 4-5 mins, then remove from the heat and season to taste.\\n6. Boil the penne for 8 mins, until partly cooked, then drain.\\nWhile the pasta cooks, deseed and chop the peppers and courgette into chunks. Peel the remaining onion and chop into wedges. Halve the olives. Toss the the veg and olives with the tomatoes in a roasting tin, in oil to coat. Season.\\nRoast on the top oven shelf for 25-30 mins, tossing it halfway.\\n7. Meanwhile, drain the penne and mix with the walnuts and hazelnuts into the mushroom sauce. Season. Tip it all into a lightly oiled baking dish. Bake on the lower oven shelf for approx. 20 mins, until the penne is fully cooked and the mixture thickened and starting to crisp on top.\\n8. Shred the mint. Check the veg seasoning. Add a squeeze of lemon to taste. Serve with the bake, sprinkled with mint.</td>\n",
       "      <td>2 red onions, 10g rosemary, 150g mushrooms, 1 garlic clove, 50g walnuts, 25g chopped toasted hazelnuts, 10g plain flour, 1 tsp Worcester sauce, 200g passata, 1 pack soy cream, 1/4 tsp ground cinnamon, 175g penne pasta, 1 red pepper, 1 yellow pepper, 1 courgette, 125g cherry tomatoes, 30g olives - check for stones, 15g mint, 1 lemon</td>\n",
       "      <td>red onions,  rosemary,  mushrooms, garlic clove,  walnuts,  chopped toasted hazelnuts,  plain flour,  Worcester sauce,  passata,  soy cream,  ground cinnamon,  penne pasta, red pepper, yellow pepper, courgette,  cherry tomatoes,  olives - check for stones,  mint, lemon</td>\n",
       "      <td>[red onions, rosemary, mushrooms, walnuts, hazelnuts, plain flour, Worcester sauce, passata, soy cream, ground cinnamon, penne pasta, courgette, cherry tomatoes, mint, lemon]</td>\n",
       "      <td>[red onions, rosemary, mushrooms, walnuts, hazelnuts, plain flour, Worcester sauce, passata, soy cream, ground cinnamon, penne pasta, courgette, cherry tomatoes, mint, lemon]</td>\n",
       "      <td>[2 red onions, 10g rosemary, 150g mushrooms, 50g walnuts, 10g hazelnuts, 1tsp plain flour, 200g Worcester sauce, 1pack passata, 0.25tsps soy cream, 175g ground cinnamon, 1 penne pasta, 125g courgette, 15g cherry tomatoes, 1 mint]</td>\n",
       "      <td>1 garlic clove, 25 g chopped toasted, 1 red pepper, 1 yellow pepper, 30 g olives - check for stones</td>\n",
       "    </tr>\n",
       "  </tbody>\n",
       "</table>\n",
       "</div>"
      ],
      "text/plain": [
       "  original_filename                                 title  \\\n",
       "0      IMG_1271.JPG  Greek Mushroom Ragù & Olive Oil Mash   \n",
       "1      IMG_1270.JPG       Mushroom Risotto Stuffed Squash   \n",
       "2      IMG_1268.JPG   Nasi Goreng with Peanuts & Sriracha   \n",
       "3      IMG_1269.JPG   Teriyaki Mushroom Rice & Asian Slaw   \n",
       "4      IMG_1266.JPG  Greek Pasticcio & Roasted Vegetables   \n",
       "\n",
       "                                                                                                                                                                                                                                                                                                                                                                                                                                                                                                                                                                                                                                                                                                                                                                                                                                                                                                                                                                                                                                                                                                                                                                                                                                                                                                                                                                                                                                                                                                                                                                                                                                                                                                                                          instructions  \\\n",
       "0                                                                                                                                                                                                                                                                                                        1. Peel, halve and finely slice the onion. Peel and finely chop the garlic. Slice the mushrooms ( 1 cm ). Halve the olives.\\n2. Boil a kettle. Peel and chop the potatoes into 2-3cm chunks. Transfer the potatoes to a medium saucepan. Add 2 good pinches of salt. Cover well with boiled water. Bring to a low boil. Cook for 8-10 mins, until tender, while you continue.\\n3. Heat 2 tbsp of oil in a large frying pan. Gently fry the onion for 5 mins, stirring now and then. Increase the heat, add the mushrooms and cook for 4 mins, until starting to soften.\\n4. Drain the cooked potatoes, then transfer them back to their saucepan. Set aside for now. Drain and rinse the lentils.\\n5. Stir the garlic and Greek spice pot into the mushrooms.\\nPour in the wine. Let it bubble and reduce by 1/2. Add the lentils and passata. Fill the empty passata pot with water. Add that. Season. Bring to a low - medium boil. Cook for 5 míns. Stir often and keep an eye on the liquid - you don't want ' it too sloppy but add a splash more water if needed.\\n6. Roughly chop the parsley leaves.\\n7. Mash the potatoes with 2 tbsp of olive oil. Season to taste. Gently reheat while you stir the spinach into the mushroom pan in handfuls, until wilted, 1-2 mins.\\n8. Check the mushroom seasoning. Stir in 1/2 the parsley and add a squeeze of lemon juice to taste. Serve with the mash, sprinkled with remaining parsley.   \n",
       "1  1. Boil a kettle. Heat your oven to 190 ° C / Gas 5. Trim and halve the leek, lengthways ; thinly shred. Finely chop the rosemary leaves. Put the dried mushroom in a heatproof bowl or mug.\\nCover with boiled water and set aside.\\n2. Heat 2 tbsp of oil in a large pan. Gently stir - fry the leek and rosemary for 10 mins while you continue.\\n3. Halve the squash, lengthways. Scoop out the seeds. In a roasting tin, drizzle the cut sides of squash with oil, season,\\nand place, cut - side down, in the tin. Roast for approx. 35-40 mins, until tender ( depending on the size of your squash ).\\n4. Place the bouillon and miso in a medium pan. Add 1 litre of\\n( warm ) water from the kettle. Place on a low heat on the hob.\\nPeel and finely chop the garlic. Thinly slice the mushrooms.\\n5. Stir the garlic and rice into the leek, until the rice grains look translucent ( approx. 1-2 mins ). Add the wine and let it bubble and reduce. Roughly chop the soaked dried mushrooms.\\nAdd to the rice together with all but the last gritty bit of soaking liquor and the fresh mushrooms.\\n6. Gradually add ladles of miso stock, allowing each to reduce, until the rice is tender ( approx. 25 mins ), while you continue.\\n7. Chop the radicchio through the root into 4-6 wedges. Strip 1 good tbsp of thyme leaves. Toss the radicchio in a bowl in oil to coat. Stir in the thyme leaves. Season.\\n8. Roughly chop the hazelnuts. When the risotto and squash are almost ready, fry the radicchio for a few mins on each side, until it starts to colour. Sprinkle a little chilli over the squash ( optional ) and fill with the risotto. Serve with the radicchio, sprinkled with a little vinegar and the hazelnuts.   \n",
       "2                                                                                                                             1. Boil a kettle.\\n2. Using about a third of the cucumber,\\nhalve it lengthways, then slice into thin half - moon shapes. Mix it in a bowl with the vinegar and sugar. Set aside.\\nGive it a mix now and then.\\n3. Rinse the rice in a sieve under cold water, until the water runs clear.\\nTransfer it to a medium saucepan with a pinch of salt. Add plenty of boiled water and cook for 18-20 minutes, while you continue, until just tender with a little bite.\\n4. Shred a couple of handfuls of cabbage.\\nTrim and thinly slice the spring onions, including the green parts.\\n5. Peel and coarsely grate the carrot ( s ).\\nChop the coriander, stalks and all.\\nRoughly chop the peanuts.\\n6. In a large frying pan, toast the Deanuts for 2-3 minutes, then transfer to a plate.\\n7. Heat 1/2 tbsp of oil in the same frying pan. Fry half the spring onions ( reserving the green tops to garnish ) with the cabbage, ground ginger and half the chilli flakes for 2-3 minutes, to soften them all slightly ( see tip ). Season and add a squeeze of lime to taste, then transfer to a plate and cover with another upside - down plate to keep it warm.\\n8. Wipe the frying pan clean, then heat 1/2 tbsp of oil. Fry the eggs for 2-3 minutes, to your liking - we like a runny yolk !\\n9. Drain the cooked rice. Serve with the stir - fried veg, grated carrot, pickled cucumber, and an egg on top.\\n10. Drizzle over some sriracha to your liking, then scatter over the peanuts, reserved spring onion tops,\\ncoriander and more chilli flakes too, if you like. Add extra wedges of lime, if you like.   \n",
       "3                                                                                                                                                                                                                      1. Boil a kettle. Rinse the rice in a sieve. Transfer it to a medium saucepan. Add plenty of boiled water and a good couple of pinches of salt. Bring to the boil and cook for 20 mins,\\nuntil tender with a little bite.\\n2. Peel and finely slice the onion ; place 1/2 in a large bowl. Peel and coarsely grate the carrot ; add it to the bowl. Finely shred 2 handfuls of cabbage ; add that, too. Add the sweet chilli sauce, a pinch of chilli flakes ( to your taste ), and a little lime juice. Season. Set aside. This is your slaw.\\n3. Thinly slice the mushrooms. Chop the coriander, stalks and all.\\n4. In a large dry frying pan, heat the cashews on a medium low heat for 3-4 mins, stirring regularly, until light golden and toasted. Transfer to your board and give them a rough chop.\\n5. Heat 2 tbsp of oil in the same frying pan. Stir - fry the mushrooms and remaining onion on a medium - high heat for 4 mins. Add the teriyaki sauce, mirin, and 1/2 the tam Let it bubble and reduce slightly, approx. 30 secs - 1 min.\\nRemove the pan from the heat.\\n6. Drain the cooked rice into a sieve. Use a spoon to press out as much excess water as you can. Stir it into the mushrooms with the toasted sesame oil. Add more tamari, to taste. Season ( don't overdo the salt, as the tamari is already salty ).\\n7. Mix the coriander into the slaw. Check the seasoning.\\n8. Serve the mushroom rice topped with cashews, with the slaw and extra wedges of remaining lime on the side., approx.   \n",
       "4                                                             1. Put a large saucepan of well - salted water on to boil. Peel and finely dice 1 onion. Heat 2 tbsp of oil in a medium saucepan. Start gently frying the onion, while you continue.\\n2. Strip off and finely chop the rosemary leaves. Add to the onion and fry for a further 5 mins, while you finely dice the mushrooms and peel and finely chop the garlic.\\n3. Heat your oven to 190 ° C / Gas 5. Stir the mushrooms and garlic into the onion. Season. Cook on a low - medium heat for 5-6 mins, until the mushrooms have softened.\\n4. Toast the walnuts in a dry frying pan for 3-4 mins. Chop them quite finely ( about the size of the chopped hazelnuts ).\\n5. Stir the flour into the mushroom mix. Cook for 2 mins, then stir in the Worcester sauce, cinnamon, passata, soy cream and 3 tbsp of water. Simmer for 4-5 mins, then remove from the heat and season to taste.\\n6. Boil the penne for 8 mins, until partly cooked, then drain.\\nWhile the pasta cooks, deseed and chop the peppers and courgette into chunks. Peel the remaining onion and chop into wedges. Halve the olives. Toss the the veg and olives with the tomatoes in a roasting tin, in oil to coat. Season.\\nRoast on the top oven shelf for 25-30 mins, tossing it halfway.\\n7. Meanwhile, drain the penne and mix with the walnuts and hazelnuts into the mushroom sauce. Season. Tip it all into a lightly oiled baking dish. Bake on the lower oven shelf for approx. 20 mins, until the penne is fully cooked and the mixture thickened and starting to crisp on top.\\n8. Shred the mint. Check the veg seasoning. Add a squeeze of lemon to taste. Serve with the bake, sprinkled with mint.   \n",
       "\n",
       "                                                                                                                                                                                                                                                                                                                                     ingredients  \\\n",
       "0                                                                                                                                       1 red onion, 2 garlic cloves, 200g portobello mushrooms, 60g green olives, 500g potatoes, 1 tin dark green lentils, 1 Greek spice pot, 100ml red wine, 200ml passata, 15g parsley, 200g spinach, 1 lemon   \n",
       "1                           1 leek, 10g rosemary, 5g dried mushrooms, 1 spaghetti squash, 2 x 1/2 tbsp bouillon powder, 1 tbsp brown rice miso, 2 garlic cloves, 200g mushrooms, 150g risotto rice, 100ml white wine, 1 head radicchio, 10g thyme, 50g whole toasted hazelnuts, 1/4 tsp dried chilli flakes -, optional, 1 tbsp balsamic vinegar   \n",
       "2                                                                   1/3 cucumber, 1 tbsp rice vinegar, 1 tbsp light brown sugar, 150g brown basmati rice, 1 pointed cabbage, 1 bunch spring onions, 1 large or 2 smaller carrots, 1 bag coriander, 30g peanuts, ¹ / 2 tsp ground ginger, 1/4 tsp chilli flakes, 1 lime, 2 eggs, 2 packs sriracha   \n",
       "3                                                                                                 150g brown basmati rice, 1 red onion, 1 carrot, 1 red cabbage, 1 pack sweet chilli sauce, 1/4 tsp chilli flakes, lime, 400g mushrooms, 15g coriander, 25g cashews, 50ml teriyaki sauce, 1 tbsp mirin, 2 tbsp tamari, 1 tbsp toasted sesame oil   \n",
       "4  2 red onions, 10g rosemary, 150g mushrooms, 1 garlic clove, 50g walnuts, 25g chopped toasted hazelnuts, 10g plain flour, 1 tsp Worcester sauce, 200g passata, 1 pack soy cream, 1/4 tsp ground cinnamon, 175g penne pasta, 1 red pepper, 1 yellow pepper, 1 courgette, 125g cherry tomatoes, 30g olives - check for stones, 15g mint, 1 lemon   \n",
       "\n",
       "                                                                                                                                                                                                                                                                      clean_ingr  \\\n",
       "0                                                                                                                red onion, garlic cloves,  portobello mushrooms,  green olives,  potatoes,  dark green lentils, Greek spice pot,  red wine,  passata,  parsley,  spinach, lemon   \n",
       "1                        leek,  rosemary,  dried mushrooms, spaghetti squash, x  bouillon powder,  brown rice miso, garlic cloves,  mushrooms,  risotto rice,  white wine, head radicchio,  thyme,  whole toasted hazelnuts,  dried chilli flakes -, optional,  balsamic vinegar   \n",
       "2                                                              cucumber,  rice vinegar,  light brown sugar,  brown basmati rice, pointed cabbage, bunch spring onions, large or smaller carrots,  coriander,  peanuts,  tsp ground ginger,  chilli flakes, lime, eggs,  sriracha   \n",
       "3                                                                                         brown basmati rice, red onion, carrot, red cabbage,  sweet chilli sauce,  chilli flakes, lime,  mushrooms,  coriander,  cashews,  teriyaki sauce,  mirin,  tamari,  toasted sesame oil   \n",
       "4  red onions,  rosemary,  mushrooms, garlic clove,  walnuts,  chopped toasted hazelnuts,  plain flour,  Worcester sauce,  passata,  soy cream,  ground cinnamon,  penne pasta, red pepper, yellow pepper, courgette,  cherry tomatoes,  olives - check for stones,  mint, lemon   \n",
       "\n",
       "                                                                                                                                                                            clean  \\\n",
       "0                                                                           [red onion, portobello mushrooms, green olives, potatoes, red wine, passata, parsley, spinach, lemon]   \n",
       "1                    [leek, rosemary, mushrooms, bouillon powder, brown rice miso, mushrooms, risotto rice, radicchio, thyme, hazelnuts, dried chilli flakes -, balsamic vinegar]   \n",
       "2                                [cucumber, rice vinegar, light brown sugar, brown basmati rice, spring onions, coriander, peanuts, ground ginger, chilli flakes, eggs, sriracha]   \n",
       "3                                 [brown basmati rice, sweet chilli sauce, chilli flakes, lime, mushrooms, coriander, cashews, teriyaki sauce, mirin, tamari, toasted sesame oil]   \n",
       "4  [red onions, rosemary, mushrooms, walnuts, hazelnuts, plain flour, Worcester sauce, passata, soy cream, ground cinnamon, penne pasta, courgette, cherry tomatoes, mint, lemon]   \n",
       "\n",
       "                                                                                                                                                                clean_ingredients  \\\n",
       "0                                                                           [red onion, portobello mushrooms, green olives, potatoes, red wine, passata, parsley, spinach, lemon]   \n",
       "1                    [leek, rosemary, mushrooms, bouillon powder, brown rice miso, mushrooms, risotto rice, radicchio, thyme, hazelnuts, dried chilli flakes -, balsamic vinegar]   \n",
       "2                                [cucumber, rice vinegar, light brown sugar, brown basmati rice, spring onions, coriander, peanuts, ground ginger, chilli flakes, eggs, sriracha]   \n",
       "3                                 [brown basmati rice, sweet chilli sauce, chilli flakes, lime, mushrooms, coriander, cashews, teriyaki sauce, mirin, tamari, toasted sesame oil]   \n",
       "4  [red onions, rosemary, mushrooms, walnuts, hazelnuts, plain flour, Worcester sauce, passata, soy cream, ground cinnamon, penne pasta, courgette, cherry tomatoes, mint, lemon]   \n",
       "\n",
       "                                                                                                                                                                                                                                   whole  \\\n",
       "0                                                                                           [1 red onion, 200g portobello mushrooms, 60g green olives, 500g potatoes, 100ml red wine, 200ml passata, 15g parsley, 200g spinach, 1 lemon]   \n",
       "1                                                                                [1 leek, 10g rosemary, 1tbsp mushrooms, 200g bouillon powder, 150g brown rice miso, 1head mushrooms, 10g risotto rice, 0.25tsps radicchio, 1tbsp thyme]   \n",
       "2                        [0.333 cucumber, 1tbsp rice vinegar, 1tbsp light brown sugar, 150g brown basmati rice, 1bunch spring onions, 1bag coriander, 30g peanuts, 2tsps ground ginger, 0.25tsps chilli flakes, 2 eggs, 2packs sriracha]   \n",
       "3                                                   [150g brown basmati rice, 1pack sweet chilli sauce, 0.25tsps chilli flakes, 400g lime, 15g mushrooms, 25g coriander, 50ml cashews, 1tbsp teriyaki sauce, 2tbsps mirin, 1tbsp tamari]   \n",
       "4  [2 red onions, 10g rosemary, 150g mushrooms, 50g walnuts, 10g hazelnuts, 1tsp plain flour, 200g Worcester sauce, 1pack passata, 0.25tsps soy cream, 175g ground cinnamon, 1 penne pasta, 125g courgette, 15g cherry tomatoes, 1 mint]   \n",
       "\n",
       "                                                                                                           addon  \n",
       "0                                                   2 garlic cloves, 1 tin dark green lentils, 1 Greek spice pot  \n",
       "1  5 g dried, 1 spaghetti squash, 2 x 0.5 tbsp, 2 garlic cloves, 100 ml white wine, 50 g whole toasted, optional  \n",
       "2                                                   1 pointed cabbage, 1 large or 2 smaller carrots, ¹ /, 1 lime  \n",
       "3                                                                           1 red onion, 1 carrot, 1 red cabbage  \n",
       "4            1 garlic clove, 25 g chopped toasted, 1 red pepper, 1 yellow pepper, 30 g olives - check for stones  "
      ]
     },
     "execution_count": 11,
     "metadata": {},
     "output_type": "execute_result"
    }
   ],
   "source": [
    "df.head()"
   ]
  },
  {
   "cell_type": "markdown",
   "id": "bb032d4c",
   "metadata": {},
   "source": [
    "Categories: Rice, Pasta, Wraps, Couscus, Salad, Stirfry, \n",
    "Other: Stirfry, Salad,\n"
   ]
  },
  {
   "cell_type": "code",
   "execution_count": null,
   "id": "b98215e2",
   "metadata": {},
   "outputs": [],
   "source": []
  },
  {
   "cell_type": "code",
   "execution_count": null,
   "id": "6bc9882e",
   "metadata": {},
   "outputs": [],
   "source": []
  },
  {
   "cell_type": "markdown",
   "id": "d7d6cfb8",
   "metadata": {},
   "source": [
    "# To Do\n",
    "* aggregate ingredients\n",
    "* in comment section there is an additional list of ingredients\n",
    "* similar recipes: topic modelling on the instructions. i.e. sentence embeddings"
   ]
  },
  {
   "cell_type": "markdown",
   "id": "6e3fd1d5",
   "metadata": {},
   "source": [
    "# Done\n",
    "* extract ingredients\n",
    "* topic modelling on ingredients\n",
    "* sample n number of recipes"
   ]
  },
  {
   "cell_type": "code",
   "execution_count": null,
   "id": "b7be48de",
   "metadata": {},
   "outputs": [],
   "source": []
  }
 ],
 "metadata": {
  "kernelspec": {
   "display_name": "Python 3 (ipykernel)",
   "language": "python",
   "name": "python3"
  },
  "language_info": {
   "codemirror_mode": {
    "name": "ipython",
    "version": 3
   },
   "file_extension": ".py",
   "mimetype": "text/x-python",
   "name": "python",
   "nbconvert_exporter": "python",
   "pygments_lexer": "ipython3",
   "version": "3.10.13"
  }
 },
 "nbformat": 4,
 "nbformat_minor": 5
}
