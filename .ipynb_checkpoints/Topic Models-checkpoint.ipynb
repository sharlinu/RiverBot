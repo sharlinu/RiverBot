{
 "cells": [
  {
   "cell_type": "markdown",
   "metadata": {},
   "source": [
    "# Topic Models"
   ]
  },
  {
   "cell_type": "code",
   "execution_count": 1,
   "metadata": {},
   "outputs": [],
   "source": [
    "import pandas as pd\n",
    "import numpy as np"
   ]
  },
  {
   "cell_type": "code",
   "execution_count": 2,
   "metadata": {},
   "outputs": [
    {
     "data": {
      "text/plain": [
       "'/Users/sharlinu/Desktop/Recipes'"
      ]
     },
     "execution_count": 2,
     "metadata": {},
     "output_type": "execute_result"
    }
   ],
   "source": [
    "import os\n",
    "os.getcwd()"
   ]
  },
  {
   "cell_type": "code",
   "execution_count": 3,
   "metadata": {},
   "outputs": [
    {
     "data": {
      "text/plain": [
       "210"
      ]
     },
     "execution_count": 3,
     "metadata": {},
     "output_type": "execute_result"
    }
   ],
   "source": [
    "df = pd.read_csv('./recipes.csv')\n",
    "len(df)"
   ]
  },
  {
   "cell_type": "markdown",
   "metadata": {},
   "source": [
    "Here is how the data was cleaned"
   ]
  },
  {
   "cell_type": "code",
   "execution_count": 4,
   "metadata": {},
   "outputs": [],
   "source": [
    "# import spacy\n",
    "# nlp = spacy.load('en')\n",
    "# def clean(text):\n",
    "#     return ' '.join([token.lemma_ \n",
    "#             for token in nlp(text) \n",
    "#             if token.pos_ in {'NOUN', 'VERB', 'ADJ', 'ADV', 'X'}])"
   ]
  },
  {
   "cell_type": "code",
   "execution_count": 8,
   "metadata": {},
   "outputs": [
    {
     "data": {
      "text/plain": [
       "120784"
      ]
     },
     "execution_count": 8,
     "metadata": {},
     "output_type": "execute_result"
    }
   ],
   "source": [
    "# remove empty entries\n",
    "df = df[df['instructions_fin'].notnull()]\n",
    "len(df)"
   ]
  },
  {
   "cell_type": "markdown",
   "metadata": {},
   "source": [
    "## LDA"
   ]
  },
  {
   "cell_type": "code",
   "execution_count": 5,
   "metadata": {
    "slideshow": {
     "slide_type": "-"
    }
   },
   "outputs": [
    {
     "ename": "ModuleNotFoundError",
     "evalue": "No module named 'gensim'",
     "output_type": "error",
     "traceback": [
      "\u001b[0;31m---------------------------------------------------------------------------\u001b[0m",
      "\u001b[0;31mModuleNotFoundError\u001b[0m                       Traceback (most recent call last)",
      "Cell \u001b[0;32mIn[5], line 1\u001b[0m\n\u001b[0;32m----> 1\u001b[0m \u001b[38;5;28;01mfrom\u001b[39;00m \u001b[38;5;21;01mgensim\u001b[39;00m\u001b[38;5;21;01m.\u001b[39;00m\u001b[38;5;21;01mmodels\u001b[39;00m \u001b[38;5;28;01mimport\u001b[39;00m LdaMulticore, TfidfModel, CoherenceModel\n\u001b[1;32m      2\u001b[0m \u001b[38;5;28;01mfrom\u001b[39;00m \u001b[38;5;21;01mgensim\u001b[39;00m\u001b[38;5;21;01m.\u001b[39;00m\u001b[38;5;21;01mcorpora\u001b[39;00m \u001b[38;5;28;01mimport\u001b[39;00m Dictionary\n\u001b[1;32m      3\u001b[0m \u001b[38;5;28;01mimport\u001b[39;00m \u001b[38;5;21;01mtime\u001b[39;00m \u001b[38;5;66;03m# to know how long training took\u001b[39;00m\n",
      "\u001b[0;31mModuleNotFoundError\u001b[0m: No module named 'gensim'"
     ]
    }
   ],
   "source": [
    "from gensim.models import LdaMulticore, TfidfModel, CoherenceModel\n",
    "from gensim.corpora import Dictionary\n",
    "import time # to know how long training took\n",
    "import multiprocessing # to speed things up by parallelizing"
   ]
  },
  {
   "cell_type": "code",
   "execution_count": 6,
   "metadata": {},
   "outputs": [
    {
     "name": "stdout",
     "output_type": "stream",
     "text": [
      "Collecting gensim\n",
      "  Downloading gensim-4.3.2-cp310-cp310-macosx_11_0_arm64.whl.metadata (8.4 kB)\n",
      "Requirement already satisfied: numpy>=1.18.5 in /Users/sharlinu/opt/miniconda3/envs/Recipes/lib/python3.10/site-packages (from gensim) (1.26.0)\n",
      "Collecting scipy>=1.7.0 (from gensim)\n",
      "  Downloading scipy-1.11.3-cp310-cp310-macosx_12_0_arm64.whl.metadata (112 kB)\n",
      "\u001b[2K     \u001b[90m━━━━━━━━━━━━━━━━━━━━━━━━━━━━━━━━━━━━━━━\u001b[0m \u001b[32m112.9/112.9 kB\u001b[0m \u001b[31m4.6 MB/s\u001b[0m eta \u001b[36m0:00:00\u001b[0m\n",
      "\u001b[?25hCollecting smart-open>=1.8.1 (from gensim)\n",
      "  Downloading smart_open-6.4.0-py3-none-any.whl.metadata (21 kB)\n",
      "Downloading gensim-4.3.2-cp310-cp310-macosx_11_0_arm64.whl (24.0 MB)\n",
      "\u001b[2K   \u001b[90m━━━━━━━━━━━━━━━━━━━━━━━━━━━━━━━━━━━━━━━━\u001b[0m \u001b[32m24.0/24.0 MB\u001b[0m \u001b[31m6.5 MB/s\u001b[0m eta \u001b[36m0:00:00\u001b[0m00:01\u001b[0m00:01\u001b[0m\n",
      "\u001b[?25hDownloading scipy-1.11.3-cp310-cp310-macosx_12_0_arm64.whl (29.8 MB)\n",
      "\u001b[2K   \u001b[90m━━━━━━━━━━━━━━━━━━━━━━━━━━━━━━━━━━━━━━━━\u001b[0m \u001b[32m29.8/29.8 MB\u001b[0m \u001b[31m9.0 MB/s\u001b[0m eta \u001b[36m0:00:00\u001b[0m00:01\u001b[0m00:01\u001b[0m\n",
      "\u001b[?25hDownloading smart_open-6.4.0-py3-none-any.whl (57 kB)\n",
      "\u001b[2K   \u001b[90m━━━━━━━━━━━━━━━━━━━━━━━━━━━━━━━━━━━━━━━━\u001b[0m \u001b[32m57.0/57.0 kB\u001b[0m \u001b[31m5.0 MB/s\u001b[0m eta \u001b[36m0:00:00\u001b[0m\n",
      "\u001b[?25hInstalling collected packages: smart-open, scipy, gensim\n",
      "Successfully installed gensim-4.3.2 scipy-1.11.3 smart-open-6.4.0\n"
     ]
    }
   ],
   "source": [
    "!pip install gensim"
   ]
  },
  {
   "cell_type": "code",
   "execution_count": 9,
   "metadata": {},
   "outputs": [
    {
     "name": "stderr",
     "output_type": "stream",
     "text": [
      "/Users/Mac/anaconda3/lib/python3.7/site-packages/ipykernel_launcher.py:5: SettingWithCopyWarning: \n",
      "A value is trying to be set on a copy of a slice from a DataFrame.\n",
      "Try using .loc[row_indexer,col_indexer] = value instead\n",
      "\n",
      "See the caveats in the documentation: https://pandas.pydata.org/pandas-docs/stable/user_guide/indexing.html#returning-a-view-versus-a-copy\n",
      "  \"\"\"\n"
     ]
    },
    {
     "name": "stdout",
     "output_type": "stream",
     "text": [
      "creating dictionary\n",
      "Dictionary(1373 unique tokens: ['High', 'biscuit', 'center', 'chicken', 'cooker']...)\n"
     ]
    }
   ],
   "source": [
    "limit=50000\n",
    "\n",
    "\n",
    "# get dictionary\n",
    "df['instructions_fin'] = df.instructions_fin.apply(str)\n",
    "# run on 50000 instances\n",
    "instances = df.instructions_fin.apply(str.split)[:limit]\n",
    "print(\"creating dictionary\", flush=True)\n",
    "# read in instances and create Dictionary object w information about frequencies etc. \n",
    "dictionary = Dictionary(instances)\n",
    "# get rid of words that are too rare or too frequent\n",
    "dictionary.filter_extremes(no_below=100, no_above=0.2)\n",
    "print(dictionary, flush=True)"
   ]
  },
  {
   "cell_type": "code",
   "execution_count": 10,
   "metadata": {},
   "outputs": [
    {
     "name": "stdout",
     "output_type": "stream",
     "text": [
      "translating corpus to IDs\n",
      "tf-idf transformation\n"
     ]
    }
   ],
   "source": [
    "#replace words by their numerical IDs and their frequency\n",
    "print(\"translating corpus to IDs\", flush=True)\n",
    "ldacorpus = [dictionary.doc2bow(text) for text in instances]\n",
    "# learn TFIDF values from corpus\n",
    "print(\"tf-idf transformation\", flush=True)\n",
    "tfidfmodel = TfidfModel(ldacorpus)\n",
    "# transform raw frequencies into TFIDF\n",
    "model_corpus = tfidfmodel[ldacorpus]"
   ]
  },
  {
   "cell_type": "code",
   "execution_count": 11,
   "metadata": {
    "scrolled": true
   },
   "outputs": [
    {
     "data": {
      "text/plain": [
       "(['place',\n",
       "  'chicken',\n",
       "  'butter',\n",
       "  'soup',\n",
       "  'onion',\n",
       "  'slow',\n",
       "  'cooker',\n",
       "  'fill',\n",
       "  'enough',\n",
       "  'water',\n",
       "  'cover',\n",
       "  'cover',\n",
       "  'cook',\n",
       "  'hour',\n",
       "  'High',\n",
       "  'about',\n",
       "  'minute',\n",
       "  'serve',\n",
       "  'place',\n",
       "  'torn',\n",
       "  'biscuit',\n",
       "  'dough',\n",
       "  'slow',\n",
       "  'cooker',\n",
       "  'cook',\n",
       "  'dough',\n",
       "  'longer',\n",
       "  'raw',\n",
       "  'center'],\n",
       " [(0, 1),\n",
       "  (1, 1),\n",
       "  (2, 1),\n",
       "  (3, 1),\n",
       "  (4, 2),\n",
       "  (5, 2),\n",
       "  (6, 1),\n",
       "  (7, 1),\n",
       "  (8, 1),\n",
       "  (9, 1),\n",
       "  (10, 2),\n",
       "  (11, 1)],\n",
       " [(0, 0.35875327613154834),\n",
       "  (1, 0.30296163368156687),\n",
       "  (2, 0.12471186300883273),\n",
       "  (3, 0.13150135465132565),\n",
       "  (4, 0.46510489509246133),\n",
       "  (5, 0.30152660954713695),\n",
       "  (6, 0.1696474444474405),\n",
       "  (7, 0.1528183806157855),\n",
       "  (8, 0.17375902308223246),\n",
       "  (9, 0.3514328438576578),\n",
       "  (10, 0.4504235688646894),\n",
       "  (11, 0.17524689592941117)])"
      ]
     },
     "execution_count": 11,
     "metadata": {},
     "output_type": "execute_result"
    }
   ],
   "source": [
    "instances[0], ldacorpus[0], model_corpus[0]"
   ]
  },
  {
   "cell_type": "markdown",
   "metadata": {},
   "source": [
    "## Choosing the number of topics"
   ]
  },
  {
   "cell_type": "code",
   "execution_count": 12,
   "metadata": {},
   "outputs": [
    {
     "name": "stdout",
     "output_type": "stream",
     "text": [
      "5 -2.287249921081057 0.37365619610501866\n",
      "6 -2.3187688568525004 0.3956881482954467\n",
      "7 -2.5465974797547553 0.3198144494738909\n",
      "8 -2.4625467236152736 0.3056383730701888\n",
      "9 -2.5881828099987745 0.3210202163016373\n",
      "10 -2.458667672338117 0.34516857438650955\n",
      "11 -2.6278192317720928 0.30182430467359755\n",
      "12 -2.6009754016167426 0.28972218883152123\n",
      "13 -2.4824019504161874 0.2874254194000655\n",
      "14 -2.472086022958955 0.30933698164190737\n",
      "15 -2.443763307275613 0.2895754882896243\n"
     ]
    }
   ],
   "source": [
    "coherence_values = []\n",
    "\n",
    "dev_size = 10000\n",
    "eval_size = 5000\n",
    "\n",
    "for num_topics in range(5, 16):\n",
    "    model = LdaMulticore(corpus=model_corpus[:dev_size], id2word=dictionary, num_topics=num_topics)\n",
    "    coherencemodel_umass = CoherenceModel(model=model, \n",
    "                                          texts=instances[dev_size:dev_size+eval_size], \n",
    "                                          dictionary=dictionary, \n",
    "                                          coherence='u_mass')\n",
    "\n",
    "    coherencemodel_cv = CoherenceModel(model=model, \n",
    "                                       texts=instances[dev_size:dev_size+eval_size], \n",
    "                                       dictionary=dictionary, \n",
    "                                       coherence='c_v')\n",
    "\n",
    "    umass_score = coherencemodel_umass.get_coherence()\n",
    "    cv_score = coherencemodel_cv.get_coherence()\n",
    "    \n",
    "    print(num_topics, umass_score, cv_score)\n",
    "    coherence_values.append((num_topics, umass_score, cv_score))"
   ]
  },
  {
   "cell_type": "code",
   "execution_count": 13,
   "metadata": {},
   "outputs": [
    {
     "data": {
      "image/png": "[encoded data removed]",
      "text/plain": [
       "<Figure size 1440x720 with 2 Axes>"
      ]
     },
     "metadata": {
      "needs_background": "light"
     },
     "output_type": "display_data"
    }
   ],
   "source": [
    "%matplotlib inline\n",
    "import matplotlib.pyplot as plt\n",
    "import seaborn\n",
    "seaborn.set_context('poster') # use large font\n",
    "\n",
    "\n",
    "scores = pd.DataFrame(coherence_values, columns=['num_topics', 'UMass', 'CV'])\n",
    "fig, ax = plt.subplots(nrows=1, ncols=2, figsize=(20, 10))\n",
    "scores.plot.line(x='num_topics', y='UMass', ax=ax[0], xticks=range(5,17));\n",
    "scores.plot.line(x='num_topics', y='CV', ax=ax[1], xticks=range(5,17));\n"
   ]
  },
  {
   "cell_type": "code",
   "execution_count": 18,
   "metadata": {
    "scrolled": true
   },
   "outputs": [
    {
     "name": "stdout",
     "output_type": "stream",
     "text": [
      "2500.0\n",
      "fitting model\n",
      "done in 271.25158190727234\n"
     ]
    }
   ],
   "source": [
    "num_topics = 10\n",
    "\n",
    "# find chunksize to make about 200 updates\n",
    "num_passes = 10\n",
    "chunk_size = len(model_corpus) * num_passes/200\n",
    "print(chunk_size)\n",
    "\n",
    "start = time.time()\n",
    "print(\"fitting model\", flush=True)\n",
    "model = LdaMulticore(num_topics=num_topics, # number of topics\n",
    "                     corpus=model_corpus, # what to train on \n",
    "                     id2word=dictionary, # mapping from IDs to words\n",
    "                     workers=min(10, multiprocessing.cpu_count()-1), # choose 10 cores, or whatever computer has\n",
    "                     passes=num_passes, # make this many passes over data\n",
    "                     chunksize=chunk_size, # update after this many instances\n",
    "                     alpha=0.1)\n",
    "    \n",
    "print(\"done in {}\".format(time.time()-start), flush=True)"
   ]
  },
  {
   "cell_type": "code",
   "execution_count": 19,
   "metadata": {},
   "outputs": [
    {
     "data": {
      "text/plain": [
       "[(0, 0.024058137),\n",
       " (1, 0.0240624),\n",
       " (2, 0.50877345),\n",
       " (3, 0.02405647),\n",
       " (4, 0.024056852),\n",
       " (5, 0.02405792),\n",
       " (6, 0.024056854),\n",
       " (7, 0.29875454),\n",
       " (8, 0.024057824),\n",
       " (9, 0.024065563)]"
      ]
     },
     "execution_count": 19,
     "metadata": {},
     "output_type": "execute_result"
    }
   ],
   "source": [
    "# transform the data into topic distros\n",
    "topic_corpus = model[model_corpus]\n",
    "\n",
    "topic_corpus[0]"
   ]
  },
  {
   "cell_type": "code",
   "execution_count": 20,
   "metadata": {},
   "outputs": [
    {
     "data": {
      "text/plain": [
       "[(0,\n",
       "  '0.019*\"fish\" + 0.019*\"glass\" + 0.014*\"ice\" + 0.012*\"cocktail\" + 0.012*\"salmon\" + 0.011*\"sauté\" + 0.010*\"strain\" + 0.010*\"lemon\" + 0.010*\"fillet\" + 0.009*\"moderately\"'),\n",
       " (1,\n",
       "  '0.036*\"chicken\" + 0.018*\"pork\" + 0.017*\"roast\" + 0.012*\"breast\" + 0.012*\"marinade\" + 0.012*\"read\" + 0.011*\"lamb\" + 0.010*\"meat\" + 0.009*\"thermometer\" + 0.009*\"bag\"'),\n",
       " (2,\n",
       "  '0.032*\"grill\" + 0.019*\"steak\" + 0.016*\"tortilla\" + 0.010*\"patty\" + 0.009*\"cooker\" + 0.009*\"rib\" + 0.008*\"slow\" + 0.008*\"beef\" + 0.007*\"meat\" + 0.007*\"turn\"'),\n",
       " (3,\n",
       "  '0.018*\"toss\" + 0.017*\"salad\" + 0.015*\"vinegar\" + 0.015*\"dressing\" + 0.012*\"ahead\" + 0.011*\"mayonnaise\" + 0.011*\"cucumber\" + 0.011*\"chill\" + 0.010*\"season\" + 0.009*\"dress\"'),\n",
       " (4,\n",
       "  '0.022*\"cake\" + 0.018*\"batter\" + 0.018*\"beat\" + 0.017*\"cookie\" + 0.012*\"vanilla\" + 0.011*\"soda\" + 0.010*\"muffin\" + 0.010*\"sheet\" + 0.010*\"come\" + 0.010*\"rack\"'),\n",
       " (5,\n",
       "  '0.025*\"potato\" + 0.018*\"bread\" + 0.016*\"dish\" + 0.011*\"baking\" + 0.010*\"eggplant\" + 0.009*\"layer\" + 0.008*\"sheet\" + 0.008*\"squash\" + 0.008*\"casserole\" + 0.007*\"bacon\"'),\n",
       " (6,\n",
       "  '0.017*\"chocolate\" + 0.010*\"whip\" + 0.009*\"beat\" + 0.009*\"ice\" + 0.008*\"chill\" + 0.008*\"syrup\" + 0.008*\"milk\" + 0.008*\"gelatin\" + 0.008*\"custard\" + 0.007*\"freeze\"'),\n",
       " (7,\n",
       "  '0.026*\"dough\" + 0.010*\"sheet\" + 0.010*\"crust\" + 0.009*\"roll\" + 0.008*\"°\" + 0.008*\"cut\" + 0.008*\"pastry\" + 0.007*\"surface\" + 0.007*\"pie\" + 0.007*\"form\"'),\n",
       " (8,\n",
       "  '0.029*\"blender\" + 0.017*\"blend\" + 0.016*\"smooth\" + 0.013*\"apple\" + 0.013*\"puree\" + 0.013*\"processor\" + 0.012*\"food\" + 0.010*\"yogurt\" + 0.010*\"quinoa\" + 0.010*\"seed\"'),\n",
       " (9,\n",
       "  '0.017*\"pot\" + 0.016*\"pasta\" + 0.015*\"rice\" + 0.013*\"chicken\" + 0.013*\"tender\" + 0.012*\"tomato\" + 0.012*\"broth\" + 0.011*\"soup\" + 0.011*\"reduce\" + 0.011*\"bean\"')]"
      ]
     },
     "execution_count": 20,
     "metadata": {},
     "output_type": "execute_result"
    }
   ],
   "source": [
    "model.print_topics()"
   ]
  },
  {
   "cell_type": "code",
   "execution_count": 17,
   "metadata": {},
   "outputs": [
    {
     "name": "stdout",
     "output_type": "stream",
     "text": [
      "1 \"bacon\", \"mayonnaise\", \"mustard\", \"towel\", \"corn\"\n",
      "2 \"roast\", \"foil\", \"bread\", \"steak\", \"meat\"\n",
      "3 \"chicken\", \"rice\", \"pot\", \"reduce\", \"broth\"\n",
      "4 \"potato\", \"dish\", \"turkey\", \"squash\", \"slow\"\n",
      "5 \"seed\", \"processor\", \"food\", \"chile\", \"puree\"\n",
      "6 \"toss\", \"ahead\", \"sauté\", \"season\", \"transfer\"\n",
      "7 \"grill\", \"shrimp\", \"fish\", \"bean\", \"marinade\"\n",
      "8 \"beat\", \"cake\", \"chocolate\", \"batter\", \"vanilla\"\n",
      "9 \"dough\", \"sheet\", \"roll\", \"crust\", \"ball\"\n",
      "10 \"ice\", \"glass\", \"apple\", \"blend\", \"syrup\"\n"
     ]
    }
   ],
   "source": [
    "import re\n",
    "\n",
    "# get the topic descritions\n",
    "topic_sep = re.compile(r\"0\\.[0-9]{3}\\*\") # getting rid of useless formatting\n",
    "# extract a list of tuples with topic number and descriptors from the model\n",
    "model_topics = [(topic_no, re.sub(topic_sep, '', model_topic).split(' + ')) for topic_no, model_topic in\n",
    "                model.print_topics(num_topics=num_topics, num_words=5)]\n",
    "\n",
    "descriptors = []\n",
    "for i, m in model_topics:\n",
    "    print(i+1, \", \".join(m[:5]))\n",
    "    descriptors.append(\", \".join(m[:2]).replace('\"', ''))"
   ]
  },
  {
   "cell_type": "code",
   "execution_count": null,
   "metadata": {},
   "outputs": [],
   "source": []
  },
  {
   "cell_type": "markdown",
   "metadata": {},
   "source": [
    "## Aggregating topics by a dependent variable"
   ]
  },
  {
   "cell_type": "code",
   "execution_count": null,
   "metadata": {},
   "outputs": [],
   "source": [
    "target_category = 'country'\n",
    "# get a list of all the topic scores for each document\n",
    "scores = [[t[1] for t in topic_corpus[entry]] for entry in range(limit)]\n",
    "# turn that into a data frame with N rows and K columns, each with the score of the corresponding topic\n",
    "topic_distros = pd.DataFrame(data=scores, columns=descriptors)\n",
    "# add the review category of each document (so we can aggregate)\n",
    "topic_distros['category'] = df[target_category][:limit]"
   ]
  },
  {
   "cell_type": "code",
   "execution_count": null,
   "metadata": {},
   "outputs": [],
   "source": [
    "topic_distros.head()"
   ]
  },
  {
   "cell_type": "code",
   "execution_count": null,
   "metadata": {},
   "outputs": [],
   "source": [
    "import matplotlib.pyplot as plt # make graphs\n",
    "import seaborn # make prettier graphs\n",
    "\n",
    "seaborn.set_context('poster') # use large font\n",
    "\n",
    "fig, ax = plt.subplots(figsize=(20, 10)) # set graph size\n",
    "# aggregate topics by categories\n",
    "aggregate_by_category = topic_distros[topic_distros.category.isin('greek american german thai mexican indian asian french'.split())]\n",
    "aggregate_by_category = aggregate_by_category.groupby(aggregate_by_category.category).mean()\n",
    "# plot the graph\n",
    "aggregate_by_category[descriptors].plot.bar(ax=ax);\n",
    "# move the legend out\n",
    "plt.legend(loc='center left', bbox_to_anchor=(1.0, 0.5));"
   ]
  },
  {
   "cell_type": "markdown",
   "metadata": {},
   "source": [
    "# Author Topic Model"
   ]
  },
  {
   "cell_type": "code",
   "execution_count": null,
   "metadata": {},
   "outputs": [],
   "source": [
    "from gensim.models import AuthorTopicModel\n",
    "from gensim.test.utils import datapath, temporary_file"
   ]
  },
  {
   "cell_type": "code",
   "execution_count": null,
   "metadata": {},
   "outputs": [],
   "source": [
    "from collections import defaultdict\n",
    "author2doc = defaultdict(list)\n",
    "\n",
    "for i, country in enumerate(df.country[:limit]):\n",
    "    author2doc[country].append(i)\n",
    "    \n",
    "len(author2doc)"
   ]
  },
  {
   "cell_type": "code",
   "execution_count": null,
   "metadata": {},
   "outputs": [],
   "source": [
    "coherence_values = []\n",
    "author_model_list = []\n",
    "\n",
    "dev_size = 10000\n",
    "eval_size = 10000\n",
    "\n",
    "dev_author2doc = {key: [idx for idx in value if idx < dev_size] for key, value in author2doc.items()}\n",
    "\n",
    "for num_topics in range(5, 16):\n",
    "    author_model = AuthorTopicModel(corpus=list(model_corpus[:dev_size]), \n",
    "                                    author2doc=dev_author2doc, \n",
    "                                    id2word=dictionary, \n",
    "                                    num_topics=num_topics)\n",
    "#     author_model_list.append(author_model)\n",
    "    \n",
    "    coherencemodel_umass = CoherenceModel(model=author_model, \n",
    "                                          texts=instances[dev_size:dev_size+eval_size], \n",
    "                                          dictionary=dictionary, \n",
    "                                          coherence='u_mass')\n",
    "\n",
    "    coherencemodel_cv = CoherenceModel(model=author_model, \n",
    "                                       texts=instances[dev_size:dev_size+eval_size], \n",
    "                                       dictionary=dictionary, \n",
    "                                       coherence='c_v')\n",
    "\n",
    "    umass_score = coherencemodel_umass.get_coherence()\n",
    "    cv_score = coherencemodel_cv.get_coherence()\n",
    "    \n",
    "    print(num_topics, umass_score, cv_score)\n",
    "    coherence_values.append((num_topics, umass_score, cv_score))"
   ]
  },
  {
   "cell_type": "code",
   "execution_count": null,
   "metadata": {},
   "outputs": [],
   "source": [
    "%matplotlib inline\n",
    "scores = pd.DataFrame(coherence_values, columns=['num_topics', 'UMass', 'CV'])\n",
    "fig, ax = plt.subplots(nrows=1, ncols=2, figsize=(20, 10))\n",
    "scores.plot.line(x='num_topics', y='UMass', ax=ax[0], xticks=range(5,16));\n",
    "scores.plot.line(x='num_topics', y='CV', ax=ax[1], xticks=range(5,16));"
   ]
  },
  {
   "cell_type": "code",
   "execution_count": null,
   "metadata": {},
   "outputs": [],
   "source": [
    "n_topics_author = 12\n",
    "\n",
    "\n",
    "author_model = AuthorTopicModel(corpus=list(model_corpus), \n",
    "                                author2doc=dev_author2doc, \n",
    "                                id2word=dictionary, \n",
    "                                num_topics=n_topics_author,\n",
    "                                passes=num_passes,\n",
    "                                chunksize=chunk_size,\n",
    "                                alpha=0.5\n",
    ")\n"
   ]
  },
  {
   "cell_type": "code",
   "execution_count": null,
   "metadata": {},
   "outputs": [],
   "source": [
    "# extract a list of tuples with topic number and descriptors from the model\n",
    "author_model_topics = [(topic_no, re.sub(topic_sep, '', model_topic).split(' + ')) for topic_no, model_topic in\n",
    "                author_model.print_topics(num_topics=n_topics_author, num_words=5)]\n",
    "\n",
    "author_descriptors = []\n",
    "for i, m in sorted(author_model_topics):\n",
    "    print(i+1, \", \".join(m[:5]))\n",
    "    author_descriptors.append(\", \".join(m[:2]).replace('\"', ''))"
   ]
  },
  {
   "cell_type": "code",
   "execution_count": null,
   "metadata": {},
   "outputs": [],
   "source": [
    "author_vecs = {author: {author_descriptors[t]: 0.0\n",
    "                         for t in range(author_model.num_topics)}\n",
    "              for author in author_model.id2author.values()\n",
    "              }\n",
    "for author in author_model.id2author.values():\n",
    "    for (t, v) in author_model.get_author_topics(author):\n",
    "        author_vecs[author][author_descriptors[t]] = v\n",
    "\n",
    "for country in 'Germany US Italy France Spain'.split():\n",
    "    print(country, author_vecs[country])        "
   ]
  },
  {
   "cell_type": "code",
   "execution_count": null,
   "metadata": {},
   "outputs": [],
   "source": [
    "author_df = pd.DataFrame.from_dict(author_vecs)\n",
    "fig, ax = plt.subplots(figsize=(20,10))\n",
    "author_df['Germany US Italy France Spain'.split()].T.plot.bar(ax=ax)\n",
    "plt.legend(loc='center left', bbox_to_anchor=(1.0, 0.5));\n"
   ]
  },
  {
   "cell_type": "markdown",
   "metadata": {},
   "source": [
    "# Guided LDA"
   ]
  },
  {
   "cell_type": "code",
   "execution_count": null,
   "metadata": {},
   "outputs": [],
   "source": [
    "import numpy as np\n",
    "import guidedlda\n",
    "from sklearn.feature_extraction.text import CountVectorizer, TfidfVectorizer\n",
    "\n",
    "# vectorize input\n",
    "vectorizer = CountVectorizer(analyzer='word', ngram_range=(1,1), min_df=100, max_df=0.1, stop_words='english')\n",
    "X = vectorizer.fit_transform(df.description_cleaned[:limit].tolist())\n",
    "\n",
    "# store lookup structures for convenience\n",
    "vocab = vectorizer.get_feature_names()\n",
    "word2id = dict((v, idx) for idx, v in enumerate(vocab))\n",
    "\n",
    "print(X.shape)"
   ]
  },
  {
   "cell_type": "code",
   "execution_count": null,
   "metadata": {},
   "outputs": [],
   "source": [
    "# define topic seeds based on intuition\n",
    "indicators = {\n",
    "    'BRIGHT': [\"fruity\", \"crisp\", \"bright\"],\n",
    "    'SPICE': [\"licorice\", \"pepper\", 'spice'], \n",
    "    'GREEN FRUIT': [\"apple\", \"lemon\", \"citrus\", \"peach\", \"pear\"],\n",
    "    'DARK': [\"vanilla\", \"smoke\", \"leather\"],\n",
    "    'RED FRUIT': [\"strawberry\", \"raspberry\", 'cherries'],\n",
    "    'FOOD': [\"pair\", \"food\", \"steak\"],\n",
    "    'FULL': [\"bodied\", \"smoke\", \"medium\", \"vanilla\"],\n",
    "    'AGEING': [\"age\", \"year\", \"structure\"]\n",
    "}\n",
    "\n",
    "topic_names, seed_topic_list = zip(*indicators.items())\n",
    "# filter out all words not actually in vocab\n",
    "seed_topic_list = [[w for w in words if w in set(vocab)] for words in seed_topic_list]\n",
    "    \n",
    "# create a mapping {word_id: k}, which we need for the model\n",
    "seed_topics = {}\n",
    "for t_id, st in enumerate(seed_topic_list):\n",
    "    for word in st:\n",
    "        seed_topics[word2id[word]] = t_id\n",
    "        \n",
    "print(seed_topic_list)"
   ]
  },
  {
   "cell_type": "code",
   "execution_count": null,
   "metadata": {},
   "outputs": [],
   "source": [
    "# define model\n",
    "model = guidedlda.GuidedLDA(n_topics=len(seed_topic_list), n_iter=1000, random_state=7, refresh=50, alpha=0.5, eta=0.000001)\n",
    "\n",
    "# fit the model with seeds\n",
    "doc_topic = model.fit_transform(X, seed_topics=seed_topics, seed_confidence=10)\n",
    "\n",
    "# retrieve the word descriptors\n",
    "n_top_words = 5\n",
    "topic_word = model.topic_word_\n",
    "descriptors_guided = []\n",
    "for i, topic_dist in enumerate(topic_word):\n",
    "    topic_words = np.array(vocab)[np.argsort(topic_dist)][:-(n_top_words+1):-1]\n",
    "    print('Topic {}: \"{}\"'.format(topic_names[i], '\" \"'.join(topic_words)))\n",
    "    descriptors_guided.append(' '.join(topic_words[:2]))"
   ]
  },
  {
   "cell_type": "code",
   "execution_count": null,
   "metadata": {},
   "outputs": [],
   "source": [
    "# get a list of all the topic scores for each document\n",
    "# scores = [[t[1] for t in topic_corpus[entry]] for entry in range(limit)]\n",
    "# turn that into a data frame with N rows and K columns, each with the score of the corresponding topic\n",
    "topic_distros_guided = pd.DataFrame(data=model.doc_topic_, columns=descriptors_guided)\n",
    "# add the review category of each document (so we can aggregate)\n",
    "topic_distros_guided['category'] = df[target_category][:limit]"
   ]
  },
  {
   "cell_type": "code",
   "execution_count": null,
   "metadata": {},
   "outputs": [],
   "source": [
    "fig, ax = plt.subplots(figsize=(20, 10)) # set graph size\n",
    "# aggregate topics by review categories\n",
    "aggregate_by_category = topic_distros_guided[topic_distros_guided.category.isin('Germany US Italy France Spain'.split())]\n",
    "aggregate_by_category = aggregate_by_category.groupby(aggregate_by_category.category).mean()\n",
    "\n",
    "# plot the graph\n",
    "aggregate_by_category[descriptors_guided].plot.bar(ax=ax);\n",
    "# move the legend out\n",
    "plt.legend(loc='center left', bbox_to_anchor=(1.0, 0.5));"
   ]
  },
  {
   "cell_type": "code",
   "execution_count": null,
   "metadata": {},
   "outputs": [],
   "source": [
    "descriptors_guided"
   ]
  },
  {
   "cell_type": "code",
   "execution_count": null,
   "metadata": {},
   "outputs": [],
   "source": []
  }
 ],
 "metadata": {
  "anaconda-cloud": {},
  "celltoolbar": "Slideshow",
  "kernelspec": {
   "display_name": "Python 3 (ipykernel)",
   "language": "python",
   "name": "python3"
  },
  "language_info": {
   "codemirror_mode": {
    "name": "ipython",
    "version": 3
   },
   "file_extension": ".py",
   "mimetype": "text/x-python",
   "name": "python",
   "nbconvert_exporter": "python",
   "pygments_lexer": "ipython3",
   "version": "3.10.13"
  },
  "livereveal": {
   "scroll": true,
   "start_slideshow_at": "selected",
   "transition": "none"
  }
 },
 "nbformat": 4,
 "nbformat_minor": 2
}
