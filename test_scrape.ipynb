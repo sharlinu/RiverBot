{
 "cells": [
  {
   "cell_type": "code",
   "execution_count": 1,
   "metadata": {
    "collapsed": true,
    "pycharm": {
     "name": "#%%\n"
    }
   },
   "outputs": [],
   "source": [
    "import pandas as pd\n",
    "\n",
    "df_rec=pd.read_excel(\"data_w_functions.xlsx\",sheet_name=\"recipes\")\n",
    "df_quant=pd.read_excel(\"data_w_functions.xlsx\",sheet_name=\"quantity\")\n",
    "df_meas=pd.read_excel(\"data_w_functions.xlsx\",sheet_name=\"measurement\",na_values=\"\")\n",
    "df_ingr=pd.read_excel(\"data_w_functions.xlsx\",sheet_name=\"ingredient\")\n",
    "\n",
    "df_sp_quant=pd.read_excel(\"data_w_functions.xlsx\",sheet_name=\"quantity_sp\")\n",
    "df_sp_meas=pd.read_excel(\"data_w_functions.xlsx\",sheet_name=\"measurement_sp\",na_values=\"\")\n",
    "df_sp_ingr=pd.read_excel(\"data_w_functions.xlsx\",sheet_name=\"ingredient_sp\")\n",
    "\n",
    "df_quant=pd.concat([df_quant,df_sp_quant],axis=1)\n",
    "df_meas=pd.concat([df_meas,df_sp_meas],axis=1)\n",
    "df_ingr=pd.concat([df_ingr,df_sp_ingr],axis=1)"
   ]
  },
  {
   "cell_type": "code",
   "execution_count": 2,
   "outputs": [],
   "source": [
    "\n",
    "\n",
    "def get_recipe(str_recipe):\n",
    "    return df_rec.at[0,str_recipe]\n",
    "\n",
    "def get_df_ingr(str_recipe,multiplier=1):\n",
    "    df_1=df_quant[str_recipe]*multiplier\n",
    "    df_1=df_1.rename('quantity')\n",
    "    df_1=pd.to_numeric(df_1)\n",
    "    df_2=df_meas[str_recipe]\n",
    "    df_2=df_2.rename('measure')\n",
    "    df_3=df_ingr[str_recipe]\n",
    "    df_3=df_3.rename('ingredient_name')\n",
    "\n",
    "    df_out=pd.concat([df_1,df_2,df_3],axis=1)\n",
    "    df_out.dropna(axis = 0, how = 'all', inplace = True)\n",
    "    df_out.drop(df_out[df_out['quantity'] <=0].index, inplace = True)\n",
    "\n",
    "    return df_out\n",
    "\n",
    "def get_list(recipe_array,multiplier):\n",
    "\n",
    "    #multiply individually, then combine\n",
    "    df_combined=get_df_ingr(recipe_array[0])[0:0]\n",
    "    for i in range(len(recipe_array)):\n",
    "        df_combined=pd.concat([df_combined,get_df_ingr(recipe_array[i],multiplier[i])])\n",
    "\n",
    "    df_combined=df_combined.groupby(['ingredient_name'],as_index=False, sort=False).agg({'quantity': 'sum','measure':'first'})\n",
    "\n",
    "    #now concatenate columns to get single ingredients list\n",
    "    df_out = df_combined[['quantity','measure','ingredient_name']]\n",
    "    df_out.fillna('',inplace=True)\n",
    "    df_out[df_out['measure']==\"None\"]=\"\"\n",
    "    df_out['quantity']=df_out['quantity'].apply(lambda x: f'{x:.0f}' if x%1==0 else str(x))\n",
    "    df_out['ingredients']=df_out['quantity'] + df_out['measure'] + \" \" + df_out['ingredient_name']\n",
    "    df_out=df_out.drop(columns=['quantity','measure','ingredient_name'], axis=1)\n",
    "\n",
    "    return df_out\n",
    "\n",
    "def get_spice_pots(recipe_array):\n",
    "    #multiply individually, then combine\n",
    "    df_combined=get_df_ingr(recipe_array[0])[0:0]\n",
    "    df_combined=df_combined.drop(columns=['quantity','measure','ingredient_name'],axis=1)\n",
    "    for i in range(len(recipe_array)):\n",
    "        df_i=get_df_ingr(recipe_array[i])\n",
    "        df_sp_i=df_i.loc[df_i['ingredient_name'].str.contains('spice pot')]\n",
    "        if len(df_sp_i)>0:\n",
    "            #check if we have spice pot:\n",
    "                if df_sp_i['ingredient_name'].iat[0] in df_ingr.columns:\n",
    "                    ingred_list_i=get_list([df_sp_i['ingredient_name'].iat[0]],[1])\n",
    "                    ingred_list_i.rename(columns={\"ingredients\":(str(1) + \" \" + df_sp_i['ingredient_name'].iat[0]) }, inplace=True)\n",
    "                    df_combined=pd.concat([df_combined,ingred_list_i],axis=1)\n",
    "                else:\n",
    "                    df_combined[(str(1) + \" \" + df_sp_i['ingredient_name'].iat[0])]=\"\"\n",
    "                    df_combined[(str(1) + \" \" + df_sp_i['ingredient_name'].iat[0])].iat[0]=\"We do not have this, please check original card\"\n",
    "\n",
    "    df_combined.fillna('',inplace=True)\n",
    "    return df_combined\n",
    "\n",
    "def get_sainsburys_link(recipe_array,multiplier):\n",
    "    #multiply individually, then combine\n",
    "    df_combined=get_df_ingr(recipe_array[0])[0:0]\n",
    "    for i in range(len(recipe_array)):\n",
    "        df_combined=pd.concat([df_combined,get_df_ingr(recipe_array[i],multiplier[i])])\n",
    "\n",
    "    df_combined=df_combined.groupby(['ingredient_name'],as_index=False, sort=False).agg({'quantity': 'sum','measure':'first'})\n",
    "\n",
    "    #now concatenate columns to get single ingredients list\n",
    "    df_out = df_combined[['quantity','measure','ingredient_name']]\n",
    "    df_out.fillna('',inplace=True)\n",
    "    df_out=df_out.drop(columns=['quantity','measure'], axis=1)\n",
    "    ls_out=df_out['ingredient_name'].tolist()\n",
    "    str_out=\",\".join(ls_out)\n",
    "    sains_link=\"https://www.sainsburys.co.uk/gol-ui/SearchResults/\"\n",
    "    return sains_link + str_out"
   ],
   "metadata": {
    "collapsed": false,
    "pycharm": {
     "name": "#%%\n"
    }
   }
  }
 ],
 "metadata": {
  "kernelspec": {
   "display_name": "Python 3",
   "language": "python",
   "name": "python3"
  },
  "language_info": {
   "codemirror_mode": {
    "name": "ipython",
    "version": 2
   },
   "file_extension": ".py",
   "mimetype": "text/x-python",
   "name": "python",
   "nbconvert_exporter": "python",
   "pygments_lexer": "ipython2",
   "version": "2.7.6"
  }
 },
 "nbformat": 4,
 "nbformat_minor": 0
}